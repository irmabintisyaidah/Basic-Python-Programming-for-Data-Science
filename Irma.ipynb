{
  "nbformat": 4,
  "nbformat_minor": 0,
  "metadata": {
    "colab": {
      "name": "Irma.ipynb",
      "provenance": [],
      "collapsed_sections": [],
      "authorship_tag": "ABX9TyMg5pKcI9ER7NKGNycBctIW",
      "include_colab_link": true
    },
    "kernelspec": {
      "name": "python3",
      "display_name": "Python 3"
    },
    "language_info": {
      "name": "python"
    }
  },
  "cells": [
    {
      "cell_type": "markdown",
      "metadata": {
        "id": "view-in-github",
        "colab_type": "text"
      },
      "source": [
        "<a href=\"https://colab.research.google.com/github/irmabintisyaidah/Basic-Python-Programming-for-Data-Science/blob/main/Irma.ipynb\" target=\"_parent\"><img src=\"https://colab.research.google.com/assets/colab-badge.svg\" alt=\"Open In Colab\"/></a>"
      ]
    },
    {
      "cell_type": "code",
      "metadata": {
        "id": "QSOfDo1PRlTe"
      },
      "source": [
        "import pandas as pd\n",
        "import numpy as np\n",
        "import matplotlib.pyplot as plt"
      ],
      "execution_count": null,
      "outputs": []
    },
    {
      "cell_type": "code",
      "metadata": {
        "id": "9br1ZE3JVv6x"
      },
      "source": [
        "data = pd.read_csv(\"https://github.com/irmabintisyaidah/Basic-Python-Programming-for-Data-Science/blob/main/angkakonsumsiikan.csv\")\n",
        "data"
      ],
      "execution_count": null,
      "outputs": []
    },
    {
      "cell_type": "code",
      "metadata": {
        "colab": {
          "base_uri": "https://localhost:8080/",
          "height": 979
        },
        "id": "04p-7gJdy293",
        "outputId": "8d0409bd-ce87-4b44-cc2d-9128e1d021d3"
      },
      "source": [
        "data1=pd.DataFrame(data[['ParamKonsumsiIkan','Nilai','Tahun']])\n",
        "data1"
      ],
      "execution_count": null,
      "outputs": [
        {
          "output_type": "execute_result",
          "data": {
            "text/html": [
              "<div>\n",
              "<style scoped>\n",
              "    .dataframe tbody tr th:only-of-type {\n",
              "        vertical-align: middle;\n",
              "    }\n",
              "\n",
              "    .dataframe tbody tr th {\n",
              "        vertical-align: top;\n",
              "    }\n",
              "\n",
              "    .dataframe thead th {\n",
              "        text-align: right;\n",
              "    }\n",
              "</style>\n",
              "<table border=\"1\" class=\"dataframe\">\n",
              "  <thead>\n",
              "    <tr style=\"text-align: right;\">\n",
              "      <th></th>\n",
              "      <th>ParamKonsumsiIkan</th>\n",
              "      <th>Nilai</th>\n",
              "      <th>Tahun</th>\n",
              "    </tr>\n",
              "  </thead>\n",
              "  <tbody>\n",
              "    <tr>\n",
              "      <th>0</th>\n",
              "      <td>Penyediaan ikan untuk konsumsi (total)</td>\n",
              "      <td>7071.93</td>\n",
              "      <td>2008</td>\n",
              "    </tr>\n",
              "    <tr>\n",
              "      <th>1</th>\n",
              "      <td>Penyediaan ikan untuk konsumsi per kapita</td>\n",
              "      <td>30.95</td>\n",
              "      <td>2008</td>\n",
              "    </tr>\n",
              "    <tr>\n",
              "      <th>2</th>\n",
              "      <td>Konsumsi ikan per kapita</td>\n",
              "      <td>28.00</td>\n",
              "      <td>2008</td>\n",
              "    </tr>\n",
              "    <tr>\n",
              "      <th>3</th>\n",
              "      <td>Ketersediaan Kalori per kapita dari ikan</td>\n",
              "      <td>53.00</td>\n",
              "      <td>2008</td>\n",
              "    </tr>\n",
              "    <tr>\n",
              "      <th>4</th>\n",
              "      <td>Ketersediaan Protein per kapita dari ikan</td>\n",
              "      <td>9.53</td>\n",
              "      <td>2008</td>\n",
              "    </tr>\n",
              "    <tr>\n",
              "      <th>5</th>\n",
              "      <td>Ketersediaan Lemak per kapita dari ikan</td>\n",
              "      <td>1.19</td>\n",
              "      <td>2008</td>\n",
              "    </tr>\n",
              "    <tr>\n",
              "      <th>6</th>\n",
              "      <td>Penyediaan ikan untuk konsumsi (total)</td>\n",
              "      <td>7754.00</td>\n",
              "      <td>2009</td>\n",
              "    </tr>\n",
              "    <tr>\n",
              "      <th>7</th>\n",
              "      <td>Penyediaan ikan untuk konsumsi per kapita</td>\n",
              "      <td>33.51</td>\n",
              "      <td>2009</td>\n",
              "    </tr>\n",
              "    <tr>\n",
              "      <th>8</th>\n",
              "      <td>Konsumsi ikan per kapita</td>\n",
              "      <td>29.08</td>\n",
              "      <td>2009</td>\n",
              "    </tr>\n",
              "    <tr>\n",
              "      <th>9</th>\n",
              "      <td>Ketersediaan Kalori per kapita dari ikan</td>\n",
              "      <td>58.00</td>\n",
              "      <td>2009</td>\n",
              "    </tr>\n",
              "    <tr>\n",
              "      <th>10</th>\n",
              "      <td>Ketersediaan Protein per kapita dari ikan</td>\n",
              "      <td>10.30</td>\n",
              "      <td>2009</td>\n",
              "    </tr>\n",
              "    <tr>\n",
              "      <th>11</th>\n",
              "      <td>Ketersediaan Lemak per kapita dari ikan</td>\n",
              "      <td>1.31</td>\n",
              "      <td>2009</td>\n",
              "    </tr>\n",
              "    <tr>\n",
              "      <th>12</th>\n",
              "      <td>Penyediaan ikan untuk konsumsi (total)</td>\n",
              "      <td>9119.00</td>\n",
              "      <td>2010</td>\n",
              "    </tr>\n",
              "    <tr>\n",
              "      <th>13</th>\n",
              "      <td>Penyediaan ikan untuk konsumsi per kapita</td>\n",
              "      <td>38.39</td>\n",
              "      <td>2010</td>\n",
              "    </tr>\n",
              "    <tr>\n",
              "      <th>14</th>\n",
              "      <td>Konsumsi ikan per kapita</td>\n",
              "      <td>30.48</td>\n",
              "      <td>2010</td>\n",
              "    </tr>\n",
              "    <tr>\n",
              "      <th>15</th>\n",
              "      <td>Ketersediaan Kalori per kapita dari ikan</td>\n",
              "      <td>66.00</td>\n",
              "      <td>2010</td>\n",
              "    </tr>\n",
              "    <tr>\n",
              "      <th>16</th>\n",
              "      <td>Ketersediaan Protein per kapita dari ikan</td>\n",
              "      <td>11.65</td>\n",
              "      <td>2010</td>\n",
              "    </tr>\n",
              "    <tr>\n",
              "      <th>17</th>\n",
              "      <td>Ketersediaan Lemak per kapita dari ikan</td>\n",
              "      <td>1.53</td>\n",
              "      <td>2010</td>\n",
              "    </tr>\n",
              "    <tr>\n",
              "      <th>18</th>\n",
              "      <td>Penyediaan ikan untuk konsumsi (total)</td>\n",
              "      <td>10282.00</td>\n",
              "      <td>2011</td>\n",
              "    </tr>\n",
              "    <tr>\n",
              "      <th>19</th>\n",
              "      <td>Penyediaan ikan untuk konsumsi per kapita</td>\n",
              "      <td>41.95</td>\n",
              "      <td>2011</td>\n",
              "    </tr>\n",
              "    <tr>\n",
              "      <th>20</th>\n",
              "      <td>Konsumsi ikan per kapita</td>\n",
              "      <td>32.25</td>\n",
              "      <td>2011</td>\n",
              "    </tr>\n",
              "    <tr>\n",
              "      <th>21</th>\n",
              "      <td>Ketersediaan Kalori per kapita dari ikan</td>\n",
              "      <td>71.00</td>\n",
              "      <td>2011</td>\n",
              "    </tr>\n",
              "    <tr>\n",
              "      <th>22</th>\n",
              "      <td>Ketersediaan Protein per kapita dari ikan</td>\n",
              "      <td>12.57</td>\n",
              "      <td>2011</td>\n",
              "    </tr>\n",
              "    <tr>\n",
              "      <th>23</th>\n",
              "      <td>Ketersediaan Lemak per kapita dari ikan</td>\n",
              "      <td>1.68</td>\n",
              "      <td>2011</td>\n",
              "    </tr>\n",
              "    <tr>\n",
              "      <th>24</th>\n",
              "      <td>Penyediaan ikan untuk konsumsi (total)</td>\n",
              "      <td>11589.00</td>\n",
              "      <td>2012</td>\n",
              "    </tr>\n",
              "    <tr>\n",
              "      <th>25</th>\n",
              "      <td>Penyediaan ikan untuk konsumsi per kapita</td>\n",
              "      <td>46.31</td>\n",
              "      <td>2012</td>\n",
              "    </tr>\n",
              "    <tr>\n",
              "      <th>26</th>\n",
              "      <td>Konsumsi ikan per kapita</td>\n",
              "      <td>33.89</td>\n",
              "      <td>2012</td>\n",
              "    </tr>\n",
              "    <tr>\n",
              "      <th>27</th>\n",
              "      <td>Ketersediaan Kalori per kapita dari ikan</td>\n",
              "      <td>78.00</td>\n",
              "      <td>2012</td>\n",
              "    </tr>\n",
              "    <tr>\n",
              "      <th>28</th>\n",
              "      <td>Ketersediaan Protein per kapita dari ikan</td>\n",
              "      <td>13.73</td>\n",
              "      <td>2012</td>\n",
              "    </tr>\n",
              "    <tr>\n",
              "      <th>29</th>\n",
              "      <td>Ketersediaan Lemak per kapita dari ikan</td>\n",
              "      <td>1.88</td>\n",
              "      <td>2012</td>\n",
              "    </tr>\n",
              "  </tbody>\n",
              "</table>\n",
              "</div>"
            ],
            "text/plain": [
              "                            ParamKonsumsiIkan     Nilai  Tahun\n",
              "0      Penyediaan ikan untuk konsumsi (total)   7071.93   2008\n",
              "1   Penyediaan ikan untuk konsumsi per kapita     30.95   2008\n",
              "2                    Konsumsi ikan per kapita     28.00   2008\n",
              "3    Ketersediaan Kalori per kapita dari ikan     53.00   2008\n",
              "4   Ketersediaan Protein per kapita dari ikan      9.53   2008\n",
              "5     Ketersediaan Lemak per kapita dari ikan      1.19   2008\n",
              "6      Penyediaan ikan untuk konsumsi (total)   7754.00   2009\n",
              "7   Penyediaan ikan untuk konsumsi per kapita     33.51   2009\n",
              "8                    Konsumsi ikan per kapita     29.08   2009\n",
              "9    Ketersediaan Kalori per kapita dari ikan     58.00   2009\n",
              "10  Ketersediaan Protein per kapita dari ikan     10.30   2009\n",
              "11    Ketersediaan Lemak per kapita dari ikan      1.31   2009\n",
              "12     Penyediaan ikan untuk konsumsi (total)   9119.00   2010\n",
              "13  Penyediaan ikan untuk konsumsi per kapita     38.39   2010\n",
              "14                   Konsumsi ikan per kapita     30.48   2010\n",
              "15   Ketersediaan Kalori per kapita dari ikan     66.00   2010\n",
              "16  Ketersediaan Protein per kapita dari ikan     11.65   2010\n",
              "17    Ketersediaan Lemak per kapita dari ikan      1.53   2010\n",
              "18     Penyediaan ikan untuk konsumsi (total)  10282.00   2011\n",
              "19  Penyediaan ikan untuk konsumsi per kapita     41.95   2011\n",
              "20                   Konsumsi ikan per kapita     32.25   2011\n",
              "21   Ketersediaan Kalori per kapita dari ikan     71.00   2011\n",
              "22  Ketersediaan Protein per kapita dari ikan     12.57   2011\n",
              "23    Ketersediaan Lemak per kapita dari ikan      1.68   2011\n",
              "24     Penyediaan ikan untuk konsumsi (total)  11589.00   2012\n",
              "25  Penyediaan ikan untuk konsumsi per kapita     46.31   2012\n",
              "26                   Konsumsi ikan per kapita     33.89   2012\n",
              "27   Ketersediaan Kalori per kapita dari ikan     78.00   2012\n",
              "28  Ketersediaan Protein per kapita dari ikan     13.73   2012\n",
              "29    Ketersediaan Lemak per kapita dari ikan      1.88   2012"
            ]
          },
          "metadata": {
            "tags": []
          },
          "execution_count": 3
        }
      ]
    },
    {
      "cell_type": "code",
      "metadata": {
        "colab": {
          "base_uri": "https://localhost:8080/",
          "height": 204
        },
        "id": "RBmXch6lzS3D",
        "outputId": "d6848a11-d778-4243-9cec-a0af0e190ffd"
      },
      "source": [
        "data2=data1[data1['ParamKonsumsiIkan']=='Konsumsi ikan per kapita']\n",
        "data2"
      ],
      "execution_count": null,
      "outputs": [
        {
          "output_type": "execute_result",
          "data": {
            "text/html": [
              "<div>\n",
              "<style scoped>\n",
              "    .dataframe tbody tr th:only-of-type {\n",
              "        vertical-align: middle;\n",
              "    }\n",
              "\n",
              "    .dataframe tbody tr th {\n",
              "        vertical-align: top;\n",
              "    }\n",
              "\n",
              "    .dataframe thead th {\n",
              "        text-align: right;\n",
              "    }\n",
              "</style>\n",
              "<table border=\"1\" class=\"dataframe\">\n",
              "  <thead>\n",
              "    <tr style=\"text-align: right;\">\n",
              "      <th></th>\n",
              "      <th>ParamKonsumsiIkan</th>\n",
              "      <th>Nilai</th>\n",
              "      <th>Tahun</th>\n",
              "    </tr>\n",
              "  </thead>\n",
              "  <tbody>\n",
              "    <tr>\n",
              "      <th>2</th>\n",
              "      <td>Konsumsi ikan per kapita</td>\n",
              "      <td>28.00</td>\n",
              "      <td>2008</td>\n",
              "    </tr>\n",
              "    <tr>\n",
              "      <th>8</th>\n",
              "      <td>Konsumsi ikan per kapita</td>\n",
              "      <td>29.08</td>\n",
              "      <td>2009</td>\n",
              "    </tr>\n",
              "    <tr>\n",
              "      <th>14</th>\n",
              "      <td>Konsumsi ikan per kapita</td>\n",
              "      <td>30.48</td>\n",
              "      <td>2010</td>\n",
              "    </tr>\n",
              "    <tr>\n",
              "      <th>20</th>\n",
              "      <td>Konsumsi ikan per kapita</td>\n",
              "      <td>32.25</td>\n",
              "      <td>2011</td>\n",
              "    </tr>\n",
              "    <tr>\n",
              "      <th>26</th>\n",
              "      <td>Konsumsi ikan per kapita</td>\n",
              "      <td>33.89</td>\n",
              "      <td>2012</td>\n",
              "    </tr>\n",
              "  </tbody>\n",
              "</table>\n",
              "</div>"
            ],
            "text/plain": [
              "           ParamKonsumsiIkan  Nilai  Tahun\n",
              "2   Konsumsi ikan per kapita  28.00   2008\n",
              "8   Konsumsi ikan per kapita  29.08   2009\n",
              "14  Konsumsi ikan per kapita  30.48   2010\n",
              "20  Konsumsi ikan per kapita  32.25   2011\n",
              "26  Konsumsi ikan per kapita  33.89   2012"
            ]
          },
          "metadata": {
            "tags": []
          },
          "execution_count": 4
        }
      ]
    },
    {
      "cell_type": "code",
      "metadata": {
        "colab": {
          "base_uri": "https://localhost:8080/",
          "height": 204
        },
        "id": "YB51p-nDzkBA",
        "outputId": "730d56e5-45b5-47d0-b2cb-d73744a6e8e1"
      },
      "source": [
        "data3 = data1[data1['ParamKonsumsiIkan']== 'Penyediaan ikan untuk konsumsi per kapita']\n",
        "data3"
      ],
      "execution_count": null,
      "outputs": [
        {
          "output_type": "execute_result",
          "data": {
            "text/html": [
              "<div>\n",
              "<style scoped>\n",
              "    .dataframe tbody tr th:only-of-type {\n",
              "        vertical-align: middle;\n",
              "    }\n",
              "\n",
              "    .dataframe tbody tr th {\n",
              "        vertical-align: top;\n",
              "    }\n",
              "\n",
              "    .dataframe thead th {\n",
              "        text-align: right;\n",
              "    }\n",
              "</style>\n",
              "<table border=\"1\" class=\"dataframe\">\n",
              "  <thead>\n",
              "    <tr style=\"text-align: right;\">\n",
              "      <th></th>\n",
              "      <th>ParamKonsumsiIkan</th>\n",
              "      <th>Nilai</th>\n",
              "      <th>Tahun</th>\n",
              "    </tr>\n",
              "  </thead>\n",
              "  <tbody>\n",
              "    <tr>\n",
              "      <th>1</th>\n",
              "      <td>Penyediaan ikan untuk konsumsi per kapita</td>\n",
              "      <td>30.95</td>\n",
              "      <td>2008</td>\n",
              "    </tr>\n",
              "    <tr>\n",
              "      <th>7</th>\n",
              "      <td>Penyediaan ikan untuk konsumsi per kapita</td>\n",
              "      <td>33.51</td>\n",
              "      <td>2009</td>\n",
              "    </tr>\n",
              "    <tr>\n",
              "      <th>13</th>\n",
              "      <td>Penyediaan ikan untuk konsumsi per kapita</td>\n",
              "      <td>38.39</td>\n",
              "      <td>2010</td>\n",
              "    </tr>\n",
              "    <tr>\n",
              "      <th>19</th>\n",
              "      <td>Penyediaan ikan untuk konsumsi per kapita</td>\n",
              "      <td>41.95</td>\n",
              "      <td>2011</td>\n",
              "    </tr>\n",
              "    <tr>\n",
              "      <th>25</th>\n",
              "      <td>Penyediaan ikan untuk konsumsi per kapita</td>\n",
              "      <td>46.31</td>\n",
              "      <td>2012</td>\n",
              "    </tr>\n",
              "  </tbody>\n",
              "</table>\n",
              "</div>"
            ],
            "text/plain": [
              "                            ParamKonsumsiIkan  Nilai  Tahun\n",
              "1   Penyediaan ikan untuk konsumsi per kapita  30.95   2008\n",
              "7   Penyediaan ikan untuk konsumsi per kapita  33.51   2009\n",
              "13  Penyediaan ikan untuk konsumsi per kapita  38.39   2010\n",
              "19  Penyediaan ikan untuk konsumsi per kapita  41.95   2011\n",
              "25  Penyediaan ikan untuk konsumsi per kapita  46.31   2012"
            ]
          },
          "metadata": {
            "tags": []
          },
          "execution_count": 5
        }
      ]
    },
    {
      "cell_type": "code",
      "metadata": {
        "colab": {
          "base_uri": "https://localhost:8080/",
          "height": 359
        },
        "id": "5C8dHnf60KIa",
        "outputId": "3a444123-dfee-4fa1-fa30-39c8dc44cc98"
      },
      "source": [
        "data4=pd.concat([data2,data3],axis=0)\n",
        "dataurut=data4.sort_index(axis=0)\n",
        "dataurut"
      ],
      "execution_count": null,
      "outputs": [
        {
          "output_type": "execute_result",
          "data": {
            "text/html": [
              "<div>\n",
              "<style scoped>\n",
              "    .dataframe tbody tr th:only-of-type {\n",
              "        vertical-align: middle;\n",
              "    }\n",
              "\n",
              "    .dataframe tbody tr th {\n",
              "        vertical-align: top;\n",
              "    }\n",
              "\n",
              "    .dataframe thead th {\n",
              "        text-align: right;\n",
              "    }\n",
              "</style>\n",
              "<table border=\"1\" class=\"dataframe\">\n",
              "  <thead>\n",
              "    <tr style=\"text-align: right;\">\n",
              "      <th></th>\n",
              "      <th>ParamKonsumsiIkan</th>\n",
              "      <th>Nilai</th>\n",
              "      <th>Tahun</th>\n",
              "    </tr>\n",
              "  </thead>\n",
              "  <tbody>\n",
              "    <tr>\n",
              "      <th>1</th>\n",
              "      <td>Penyediaan ikan untuk konsumsi per kapita</td>\n",
              "      <td>30.95</td>\n",
              "      <td>2008</td>\n",
              "    </tr>\n",
              "    <tr>\n",
              "      <th>2</th>\n",
              "      <td>Konsumsi ikan per kapita</td>\n",
              "      <td>28.00</td>\n",
              "      <td>2008</td>\n",
              "    </tr>\n",
              "    <tr>\n",
              "      <th>7</th>\n",
              "      <td>Penyediaan ikan untuk konsumsi per kapita</td>\n",
              "      <td>33.51</td>\n",
              "      <td>2009</td>\n",
              "    </tr>\n",
              "    <tr>\n",
              "      <th>8</th>\n",
              "      <td>Konsumsi ikan per kapita</td>\n",
              "      <td>29.08</td>\n",
              "      <td>2009</td>\n",
              "    </tr>\n",
              "    <tr>\n",
              "      <th>13</th>\n",
              "      <td>Penyediaan ikan untuk konsumsi per kapita</td>\n",
              "      <td>38.39</td>\n",
              "      <td>2010</td>\n",
              "    </tr>\n",
              "    <tr>\n",
              "      <th>14</th>\n",
              "      <td>Konsumsi ikan per kapita</td>\n",
              "      <td>30.48</td>\n",
              "      <td>2010</td>\n",
              "    </tr>\n",
              "    <tr>\n",
              "      <th>19</th>\n",
              "      <td>Penyediaan ikan untuk konsumsi per kapita</td>\n",
              "      <td>41.95</td>\n",
              "      <td>2011</td>\n",
              "    </tr>\n",
              "    <tr>\n",
              "      <th>20</th>\n",
              "      <td>Konsumsi ikan per kapita</td>\n",
              "      <td>32.25</td>\n",
              "      <td>2011</td>\n",
              "    </tr>\n",
              "    <tr>\n",
              "      <th>25</th>\n",
              "      <td>Penyediaan ikan untuk konsumsi per kapita</td>\n",
              "      <td>46.31</td>\n",
              "      <td>2012</td>\n",
              "    </tr>\n",
              "    <tr>\n",
              "      <th>26</th>\n",
              "      <td>Konsumsi ikan per kapita</td>\n",
              "      <td>33.89</td>\n",
              "      <td>2012</td>\n",
              "    </tr>\n",
              "  </tbody>\n",
              "</table>\n",
              "</div>"
            ],
            "text/plain": [
              "                            ParamKonsumsiIkan  Nilai  Tahun\n",
              "1   Penyediaan ikan untuk konsumsi per kapita  30.95   2008\n",
              "2                    Konsumsi ikan per kapita  28.00   2008\n",
              "7   Penyediaan ikan untuk konsumsi per kapita  33.51   2009\n",
              "8                    Konsumsi ikan per kapita  29.08   2009\n",
              "13  Penyediaan ikan untuk konsumsi per kapita  38.39   2010\n",
              "14                   Konsumsi ikan per kapita  30.48   2010\n",
              "19  Penyediaan ikan untuk konsumsi per kapita  41.95   2011\n",
              "20                   Konsumsi ikan per kapita  32.25   2011\n",
              "25  Penyediaan ikan untuk konsumsi per kapita  46.31   2012\n",
              "26                   Konsumsi ikan per kapita  33.89   2012"
            ]
          },
          "metadata": {
            "tags": []
          },
          "execution_count": 6
        }
      ]
    },
    {
      "cell_type": "markdown",
      "metadata": {
        "id": "CVSMneGqIXCM"
      },
      "source": [
        "#Data Visualizaton 1"
      ]
    },
    {
      "cell_type": "markdown",
      "metadata": {
        "id": "4QZz_9dviBZP"
      },
      "source": [
        "##Report 1\n",
        "Pada tahun berapakah angka konsumsi ikan mencapai parameter nilai tertinggi ?"
      ]
    },
    {
      "cell_type": "code",
      "metadata": {
        "colab": {
          "base_uri": "https://localhost:8080/",
          "height": 447
        },
        "id": "_xSu2rIm07FV",
        "outputId": "f1792e87-901c-49e1-9552-3fce464c3e14"
      },
      "source": [
        "Konsumsi =[28,29.08,30.48,32.25,33.89]\n",
        "Penyediaan_ikan_konsumsi = [30.95,33.51,38.39,41.95,46.31]\n",
        "Tahun = ('2008','2009','2010','2011','2012')\n",
        "x= np.arange(len(Tahun))\n",
        "width=0.35\n",
        "fig, ax=plt.subplots(figsize=(12,7))\n",
        "a= ax.bar(x-width/2,Penyediaan_ikan_konsumsi,width,label='Penyediaan ikan untuk konsumsi per kapita',color = 'darkblue')\n",
        "b=ax.bar(x+width/2,Konsumsi,width,label='Konsumsi ikan per kapita', color='steelblue')\n",
        "ax.set_title('Penyediaan ikan untuk konsumsi per kapita')\n",
        "ax.set_ylabel('Nilai',size=13)\n",
        "ax.set_xticks(x)\n",
        "ax.set_xticklabels(Tahun,size=13)\n",
        "ax.legend(fontsize=12)\n",
        "plt.show( )\n"
      ],
      "execution_count": null,
      "outputs": [
        {
          "output_type": "display_data",
          "data": {
            "image/png": "[encoded data removed]",
            "text/plain": [
              "<Figure size 864x504 with 1 Axes>"
            ]
          },
          "metadata": {
            "tags": [],
            "needs_background": "light"
          }
        }
      ]
    },
    {
      "cell_type": "markdown",
      "metadata": {
        "id": "qb4Ibyb9dFLl"
      },
      "source": [
        "Angka konsumsi ikan pada tahun 2008 sebesar 28,00 kg/kap/th, meningkat setiap tahunnya hingga mencapai 33,89 kg/kap/th pada tahun 2012 dengan tingkat pertumbuhan sebesar 3,07%. Penyediaan ikan pada tahun 2008 sebesar 30.95 kg/kap/th dan meningkat menjadi 46.31 kg/kap/th pada tahun 2012 dengan tingkat pertumbuhan sebesar 3.82%. Sehingga angka konsumsi ikan mencapai parameter nilai tertinggi pada tahun 2012.\n",
        "\n",
        "http://jppik.id/index.php/jppik/article/view/82"
      ]
    },
    {
      "cell_type": "markdown",
      "metadata": {
        "id": "9GfOhtnB6AVV"
      },
      "source": [
        "## Insight\n",
        "Bagaimana nilai proyeksi angka konsumsi ikan di Indonesia pada tahun 2012 ? "
      ]
    },
    {
      "cell_type": "markdown",
      "metadata": {
        "id": "DkJJcs3TL5it"
      },
      "source": [
        "Nilai proyeksi permintaan dengan mengambil laju pertumbuhan pendapatan 5 persen dan laju\n",
        "pertumbuhan harga 3 persen merupakan skenario terbaik karena menghasilkan persentase kesalahan\n",
        "relatif paling kecil, yaitu sekitar 2.5 persen. Pada skenario ini terlihat tingkat konsumsi ikan per kapita\n",
        "penduduk Indonesia akan mengalami kenaikan dengan laju rata-rata sekitar 4.3 persen per tahun. Jika\n",
        "hasil proyeksi ini dikaitkan dikaitkan dengan program pemerintah yang mentargetkan tingkat\n",
        "konsumsi ikan sebesar 33,89 kg/kap/th pada tahun 2012 tampaknya hal tersebut belum dapat dicapai,\n",
        "karena nilai proyeksi berdasarkan skenario ini adalah 33.21 kg/kapita. Dengan asumsi elastisitas harga\n",
        "dan pendapatan tetap, maka target tingkat konsumsi ikan sebesar 33,89 kg/kap/th pada tahun 2012 harus\n",
        "diikuti dengan upaya memacu laju pertumbuhan harga dan pendapatan, yaitu sebesar 5 persen dan 7\n",
        "persen per tahun. Hal ini antara lain dapat dilakukan dengan kebijakan harga (meningkatkan\n",
        "harga ikan) untuk golongan menengah ke atas dan kebijakan yang dapat meningkatkan pendapatan\n",
        "bagi golongan menengah ke bawah.\n",
        "\n",
        "\n",
        "https://d1wqtxts1xzle7.cloudfront.net/33800742/SKENARIO_PROYEKSI_KONSUMSI_IKAN_PER_KAPITA_DI_INDONESIA-with-cover-page-v2.pdf?Expires=1626440042&Signature=QVZ~BOfBaMvdu56BH7PfK-iRqhX1WWDCLZliP9-6hV2tyrzDBC7xxYtjb0VSUGYD5mPoAK2XZVP85UkKhqK956XciJMZHFKaBXdR6enWmGTMCh5x~pfadlSLKcstNDQ~cs~hVekGqu2m8-ddKvjqoQBHwtF7snY09ZuhscqGOA2nlBVxjEH-TLPcdPSIyKFFDYRKjXHpkNiGh7AT4CvcZkq-Ir6SnprjgBajQXy2BZ4JdRUsvXPXelNOb2XojvVLku~oatibz4ZZgJDNcUBw5FDZNV4A0lV2rDk2iTTxavcHR617Mb7gheJprLcYFgtSGVNii8w0oy9IYC41ncKbfg__&Key-Pair-Id=APKAJLOHF5GGSLRBV4ZA\n",
        "\n",
        "\n"
      ]
    },
    {
      "cell_type": "code",
      "metadata": {
        "id": "0tbqBww9kTTZ"
      },
      "source": [
        "import pandas as pd\n",
        "import numpy as np\n",
        "import matplotlib.pyplot as plt\n",
        "import plotly.express as px\n",
        "import plotly.graph_objects as go"
      ],
      "execution_count": null,
      "outputs": []
    },
    {
      "cell_type": "code",
      "metadata": {
        "colab": {
          "base_uri": "https://localhost:8080/",
          "height": 419
        },
        "id": "hWbMWa6GkE-i",
        "outputId": "e5dcc95f-a7f9-4dc0-c83d-64b96c6597f7"
      },
      "source": [
        "df = pd.read_csv(\"sample_data/jumlahproduksibenih.csv\")\n",
        "df"
      ],
      "execution_count": null,
      "outputs": [
        {
          "output_type": "execute_result",
          "data": {
            "text/html": [
              "<div>\n",
              "<style scoped>\n",
              "    .dataframe tbody tr th:only-of-type {\n",
              "        vertical-align: middle;\n",
              "    }\n",
              "\n",
              "    .dataframe tbody tr th {\n",
              "        vertical-align: top;\n",
              "    }\n",
              "\n",
              "    .dataframe thead th {\n",
              "        text-align: right;\n",
              "    }\n",
              "</style>\n",
              "<table border=\"1\" class=\"dataframe\">\n",
              "  <thead>\n",
              "    <tr style=\"text-align: right;\">\n",
              "      <th></th>\n",
              "      <th>ID</th>\n",
              "      <th>Benih</th>\n",
              "      <th>Budidaya</th>\n",
              "      <th>Tahun</th>\n",
              "      <th>Jumlah</th>\n",
              "    </tr>\n",
              "  </thead>\n",
              "  <tbody>\n",
              "    <tr>\n",
              "      <th>0</th>\n",
              "      <td>1</td>\n",
              "      <td>bandeng &lt;5 cm</td>\n",
              "      <td>budidaya tambak</td>\n",
              "      <td>2001</td>\n",
              "      <td>23646690</td>\n",
              "    </tr>\n",
              "    <tr>\n",
              "      <th>1</th>\n",
              "      <td>2</td>\n",
              "      <td>bandeng &gt;5 cm</td>\n",
              "      <td>budidaya tambak</td>\n",
              "      <td>2001</td>\n",
              "      <td>5205005</td>\n",
              "    </tr>\n",
              "    <tr>\n",
              "      <th>2</th>\n",
              "      <td>3</td>\n",
              "      <td>udang windu</td>\n",
              "      <td>budidaya tambak</td>\n",
              "      <td>2001</td>\n",
              "      <td>19021171</td>\n",
              "    </tr>\n",
              "    <tr>\n",
              "      <th>3</th>\n",
              "      <td>4</td>\n",
              "      <td>udang putih</td>\n",
              "      <td>budidaya tambak</td>\n",
              "      <td>2001</td>\n",
              "      <td>2732715</td>\n",
              "    </tr>\n",
              "    <tr>\n",
              "      <th>4</th>\n",
              "      <td>5</td>\n",
              "      <td>udang vannamei</td>\n",
              "      <td>budidaya tambak</td>\n",
              "      <td>2001</td>\n",
              "      <td>0</td>\n",
              "    </tr>\n",
              "    <tr>\n",
              "      <th>...</th>\n",
              "      <td>...</td>\n",
              "      <td>...</td>\n",
              "      <td>...</td>\n",
              "      <td>...</td>\n",
              "      <td>...</td>\n",
              "    </tr>\n",
              "    <tr>\n",
              "      <th>446</th>\n",
              "      <td>447</td>\n",
              "      <td>semua ikan</td>\n",
              "      <td>budidaya tambak</td>\n",
              "      <td>2012</td>\n",
              "      <td>28966844</td>\n",
              "    </tr>\n",
              "    <tr>\n",
              "      <th>447</th>\n",
              "      <td>448</td>\n",
              "      <td>semua ikan</td>\n",
              "      <td>budidaya kolam</td>\n",
              "      <td>2012</td>\n",
              "      <td>10795957</td>\n",
              "    </tr>\n",
              "    <tr>\n",
              "      <th>448</th>\n",
              "      <td>449</td>\n",
              "      <td>semua ikan</td>\n",
              "      <td>budidaya karamba</td>\n",
              "      <td>2012</td>\n",
              "      <td>1182416</td>\n",
              "    </tr>\n",
              "    <tr>\n",
              "      <th>449</th>\n",
              "      <td>450</td>\n",
              "      <td>semua ikan</td>\n",
              "      <td>budidaya jaring apung</td>\n",
              "      <td>2012</td>\n",
              "      <td>2718598</td>\n",
              "    </tr>\n",
              "    <tr>\n",
              "      <th>450</th>\n",
              "      <td>451</td>\n",
              "      <td>semua ikan</td>\n",
              "      <td>budidaya minapadi</td>\n",
              "      <td>2012</td>\n",
              "      <td>573742</td>\n",
              "    </tr>\n",
              "  </tbody>\n",
              "</table>\n",
              "<p>451 rows × 5 columns</p>\n",
              "</div>"
            ],
            "text/plain": [
              "      ID           Benih               Budidaya  Tahun    Jumlah\n",
              "0      1   bandeng <5 cm        budidaya tambak   2001  23646690\n",
              "1      2   bandeng >5 cm        budidaya tambak   2001   5205005\n",
              "2      3     udang windu        budidaya tambak   2001  19021171\n",
              "3      4     udang putih        budidaya tambak   2001   2732715\n",
              "4      5  udang vannamei        budidaya tambak   2001         0\n",
              "..   ...             ...                    ...    ...       ...\n",
              "446  447      semua ikan        budidaya tambak   2012  28966844\n",
              "447  448      semua ikan         budidaya kolam   2012  10795957\n",
              "448  449      semua ikan       budidaya karamba   2012   1182416\n",
              "449  450      semua ikan  budidaya jaring apung   2012   2718598\n",
              "450  451      semua ikan      budidaya minapadi   2012    573742\n",
              "\n",
              "[451 rows x 5 columns]"
            ]
          },
          "metadata": {
            "tags": []
          },
          "execution_count": 3
        }
      ]
    },
    {
      "cell_type": "code",
      "metadata": {
        "colab": {
          "base_uri": "https://localhost:8080/"
        },
        "id": "_INJmxpPklZN",
        "outputId": "f42631e4-4a7c-4ce7-b578-6be23ac1ad3c"
      },
      "source": [
        "df.Budidaya.value_counts()"
      ],
      "execution_count": null,
      "outputs": [
        {
          "output_type": "execute_result",
          "data": {
            "text/plain": [
              "budidaya kolam           132\n",
              "budidaya karamba         132\n",
              "budidaya minapadi         88\n",
              "budidaya tambak           77\n",
              "budidaya laut             11\n",
              "budidaya jaring apung     11\n",
              "Name: Budidaya, dtype: int64"
            ]
          },
          "metadata": {
            "tags": []
          },
          "execution_count": 10
        }
      ]
    },
    {
      "cell_type": "code",
      "metadata": {
        "colab": {
          "base_uri": "https://localhost:8080/"
        },
        "id": "GNA0GNPskodN",
        "outputId": "7ed8a4e5-25f0-4864-84a9-17629491a11b"
      },
      "source": [
        "List_Budidaya = list(pd.unique(df['Budidaya']))\n",
        "List_Budidaya"
      ],
      "execution_count": null,
      "outputs": [
        {
          "output_type": "execute_result",
          "data": {
            "text/plain": [
              "['budidaya tambak',\n",
              " 'budidaya kolam',\n",
              " 'budidaya karamba',\n",
              " 'budidaya minapadi',\n",
              " 'budidaya laut',\n",
              " 'budidaya jaring apung']"
            ]
          },
          "metadata": {
            "tags": []
          },
          "execution_count": 11
        }
      ]
    },
    {
      "cell_type": "code",
      "metadata": {
        "id": "lU8_FXOMkuqJ"
      },
      "source": [
        "df_kolam = df[df['Budidaya'] == 'budidaya kolam']\n",
        "df_karamba = df[df['Budidaya'] == 'budidaya karamba']"
      ],
      "execution_count": null,
      "outputs": []
    },
    {
      "cell_type": "code",
      "metadata": {
        "id": "M1mBpMdskxOr"
      },
      "source": [
        "sum_kolam = df_kolam.Jumlah.sum()\n",
        "sum_karamba = df_karamba.Jumlah.sum()"
      ],
      "execution_count": null,
      "outputs": []
    },
    {
      "cell_type": "code",
      "metadata": {
        "colab": {
          "base_uri": "https://localhost:8080/",
          "height": 111
        },
        "id": "B0hr2DGTk0L_",
        "outputId": "a513e587-218e-48d4-aa26-2851b51e8eb8"
      },
      "source": [
        "df_Jumlah = pd.DataFrame({\"Budidaya\":['Budidaya Kolam','Budidaya Karamba'],\n",
        "                          \"Jumlah\":[sum_kolam, sum_karamba]})\n",
        "df_Jumlah.sort_values(['Jumlah','Budidaya'], ascending=[True, False], inplace=False)\n",
        "df_Jumlah"
      ],
      "execution_count": null,
      "outputs": [
        {
          "output_type": "execute_result",
          "data": {
            "text/html": [
              "<div>\n",
              "<style scoped>\n",
              "    .dataframe tbody tr th:only-of-type {\n",
              "        vertical-align: middle;\n",
              "    }\n",
              "\n",
              "    .dataframe tbody tr th {\n",
              "        vertical-align: top;\n",
              "    }\n",
              "\n",
              "    .dataframe thead th {\n",
              "        text-align: right;\n",
              "    }\n",
              "</style>\n",
              "<table border=\"1\" class=\"dataframe\">\n",
              "  <thead>\n",
              "    <tr style=\"text-align: right;\">\n",
              "      <th></th>\n",
              "      <th>Budidaya</th>\n",
              "      <th>Jumlah</th>\n",
              "    </tr>\n",
              "  </thead>\n",
              "  <tbody>\n",
              "    <tr>\n",
              "      <th>0</th>\n",
              "      <td>Budidaya Kolam</td>\n",
              "      <td>3849404677</td>\n",
              "    </tr>\n",
              "    <tr>\n",
              "      <th>1</th>\n",
              "      <td>Budidaya Karamba</td>\n",
              "      <td>498224893</td>\n",
              "    </tr>\n",
              "  </tbody>\n",
              "</table>\n",
              "</div>"
            ],
            "text/plain": [
              "           Budidaya      Jumlah\n",
              "0    Budidaya Kolam  3849404677\n",
              "1  Budidaya Karamba   498224893"
            ]
          },
          "metadata": {
            "tags": []
          },
          "execution_count": 6
        }
      ]
    },
    {
      "cell_type": "markdown",
      "metadata": {
        "id": "LCgslGcjk3zZ"
      },
      "source": [
        "#Data Visualization 2"
      ]
    },
    {
      "cell_type": "markdown",
      "metadata": {
        "id": "eZawbgbOk_lu"
      },
      "source": [
        "##Report 2\n",
        "Berdasarkan data jumlah produksi benih , perbandingan jumlah hasil budidaya kolam dan budidaya karamba manakah yang menghasilkan jumlah paling banyak ? "
      ]
    },
    {
      "cell_type": "code",
      "metadata": {
        "colab": {
          "base_uri": "https://localhost:8080/",
          "height": 542
        },
        "id": "AMRLpCxKlGm1",
        "outputId": "352b717b-8335-4e24-ae70-d20c8d50d945"
      },
      "source": [
        "data = px.bar(df_Jumlah,x = 'Budidaya',y = 'Jumlah')\n",
        "data.update_layout(\n",
        "    title = 'Diagram Jumlah Produksi Benih pada Budidaya Kolam dan Budidaya Karamba',\n",
        "    title_font_color = 'blue',\n",
        "    title_font_size = 25,\n",
        "\n",
        "    xaxis = dict(\n",
        "        title = 'Budidaya',\n",
        "        titlefont_size = 15,\n",
        "        tickfont_size = 10),\n",
        "    yaxis = dict(\n",
        "        title = 'Jumlah Produksi Benih',\n",
        "        titlefont_size = 15,\n",
        "        tickfont_size = 10))\n",
        "data.show()"
      ],
      "execution_count": null,
      "outputs": [
        {
          "output_type": "display_data",
          "data": {
            "text/html": [
              "<html>\n",
              "<head><meta charset=\"utf-8\" /></head>\n",
              "<body>\n",
              "    <div>\n",
              "            <script src=\"https://cdnjs.cloudflare.com/ajax/libs/mathjax/2.7.5/MathJax.js?config=TeX-AMS-MML_SVG\"></script><script type=\"text/javascript\">if (window.MathJax) {MathJax.Hub.Config({SVG: {font: \"STIX-Web\"}});}</script>\n",
              "                <script type=\"text/javascript\">window.PlotlyConfig = {MathJaxConfig: 'local'};</script>\n",
              "        <script src=\"https://cdn.plot.ly/plotly-latest.min.js\"></script>    \n",
              "            <div id=\"74d06988-f71a-4402-b23a-0ca117055a0d\" class=\"plotly-graph-div\" style=\"height:525px; width:100%;\"></div>\n",
              "            <script type=\"text/javascript\">\n",
              "                \n",
              "                    window.PLOTLYENV=window.PLOTLYENV || {};\n",
              "                    \n",
              "                if (document.getElementById(\"74d06988-f71a-4402-b23a-0ca117055a0d\")) {\n",
              "                    Plotly.newPlot(\n",
              "                        '74d06988-f71a-4402-b23a-0ca117055a0d',\n",
              "                        [{\"alignmentgroup\": \"True\", \"hoverlabel\": {\"namelength\": 0}, \"hovertemplate\": \"Budidaya=%{x}<br>Jumlah=%{y}\", \"legendgroup\": \"\", \"marker\": {\"color\": \"#636efa\"}, \"name\": \"\", \"offsetgroup\": \"\", \"orientation\": \"v\", \"showlegend\": false, \"textposition\": \"auto\", \"type\": \"bar\", \"x\": [\"Budidaya Kolam\", \"Budidaya Karamba\"], \"xaxis\": \"x\", \"y\": [3849404677, 498224893], \"yaxis\": \"y\"}],\n",
              "                        {\"barmode\": \"relative\", \"legend\": {\"tracegroupgap\": 0}, \"margin\": {\"t\": 60}, \"template\": {\"data\": {\"bar\": [{\"error_x\": {\"color\": \"#2a3f5f\"}, \"error_y\": {\"color\": \"#2a3f5f\"}, \"marker\": {\"line\": {\"color\": \"#E5ECF6\", \"width\": 0.5}}, \"type\": \"bar\"}], \"barpolar\": [{\"marker\": {\"line\": {\"color\": \"#E5ECF6\", \"width\": 0.5}}, \"type\": \"barpolar\"}], \"carpet\": [{\"aaxis\": {\"endlinecolor\": \"#2a3f5f\", \"gridcolor\": \"white\", \"linecolor\": \"white\", \"minorgridcolor\": \"white\", \"startlinecolor\": \"#2a3f5f\"}, \"baxis\": {\"endlinecolor\": \"#2a3f5f\", \"gridcolor\": \"white\", \"linecolor\": \"white\", \"minorgridcolor\": \"white\", \"startlinecolor\": \"#2a3f5f\"}, \"type\": \"carpet\"}], \"choropleth\": [{\"colorbar\": {\"outlinewidth\": 0, \"ticks\": \"\"}, \"type\": \"choropleth\"}], \"contour\": [{\"colorbar\": {\"outlinewidth\": 0, \"ticks\": \"\"}, \"colorscale\": [[0.0, \"#0d0887\"], [0.1111111111111111, \"#46039f\"], [0.2222222222222222, \"#7201a8\"], [0.3333333333333333, \"#9c179e\"], [0.4444444444444444, \"#bd3786\"], [0.5555555555555556, \"#d8576b\"], [0.6666666666666666, \"#ed7953\"], [0.7777777777777778, \"#fb9f3a\"], [0.8888888888888888, \"#fdca26\"], [1.0, \"#f0f921\"]], \"type\": \"contour\"}], \"contourcarpet\": [{\"colorbar\": {\"outlinewidth\": 0, \"ticks\": \"\"}, \"type\": \"contourcarpet\"}], \"heatmap\": [{\"colorbar\": {\"outlinewidth\": 0, \"ticks\": \"\"}, \"colorscale\": [[0.0, \"#0d0887\"], [0.1111111111111111, \"#46039f\"], [0.2222222222222222, \"#7201a8\"], [0.3333333333333333, \"#9c179e\"], [0.4444444444444444, \"#bd3786\"], [0.5555555555555556, \"#d8576b\"], [0.6666666666666666, \"#ed7953\"], [0.7777777777777778, \"#fb9f3a\"], [0.8888888888888888, \"#fdca26\"], [1.0, \"#f0f921\"]], \"type\": \"heatmap\"}], \"heatmapgl\": [{\"colorbar\": {\"outlinewidth\": 0, \"ticks\": \"\"}, \"colorscale\": [[0.0, \"#0d0887\"], [0.1111111111111111, \"#46039f\"], [0.2222222222222222, \"#7201a8\"], [0.3333333333333333, \"#9c179e\"], [0.4444444444444444, \"#bd3786\"], [0.5555555555555556, \"#d8576b\"], [0.6666666666666666, \"#ed7953\"], [0.7777777777777778, \"#fb9f3a\"], [0.8888888888888888, \"#fdca26\"], [1.0, \"#f0f921\"]], \"type\": \"heatmapgl\"}], \"histogram\": [{\"marker\": {\"colorbar\": {\"outlinewidth\": 0, \"ticks\": \"\"}}, \"type\": \"histogram\"}], \"histogram2d\": [{\"colorbar\": {\"outlinewidth\": 0, \"ticks\": \"\"}, \"colorscale\": [[0.0, \"#0d0887\"], [0.1111111111111111, \"#46039f\"], [0.2222222222222222, \"#7201a8\"], [0.3333333333333333, \"#9c179e\"], [0.4444444444444444, \"#bd3786\"], [0.5555555555555556, \"#d8576b\"], [0.6666666666666666, \"#ed7953\"], [0.7777777777777778, \"#fb9f3a\"], [0.8888888888888888, \"#fdca26\"], [1.0, \"#f0f921\"]], \"type\": \"histogram2d\"}], \"histogram2dcontour\": [{\"colorbar\": {\"outlinewidth\": 0, \"ticks\": \"\"}, \"colorscale\": [[0.0, \"#0d0887\"], [0.1111111111111111, \"#46039f\"], [0.2222222222222222, \"#7201a8\"], [0.3333333333333333, \"#9c179e\"], [0.4444444444444444, \"#bd3786\"], [0.5555555555555556, \"#d8576b\"], [0.6666666666666666, \"#ed7953\"], [0.7777777777777778, \"#fb9f3a\"], [0.8888888888888888, \"#fdca26\"], [1.0, \"#f0f921\"]], \"type\": \"histogram2dcontour\"}], \"mesh3d\": [{\"colorbar\": {\"outlinewidth\": 0, \"ticks\": \"\"}, \"type\": \"mesh3d\"}], \"parcoords\": [{\"line\": {\"colorbar\": {\"outlinewidth\": 0, \"ticks\": \"\"}}, \"type\": \"parcoords\"}], \"pie\": [{\"automargin\": true, \"type\": \"pie\"}], \"scatter\": [{\"marker\": {\"colorbar\": {\"outlinewidth\": 0, \"ticks\": \"\"}}, \"type\": \"scatter\"}], \"scatter3d\": [{\"line\": {\"colorbar\": {\"outlinewidth\": 0, \"ticks\": \"\"}}, \"marker\": {\"colorbar\": {\"outlinewidth\": 0, \"ticks\": \"\"}}, \"type\": \"scatter3d\"}], \"scattercarpet\": [{\"marker\": {\"colorbar\": {\"outlinewidth\": 0, \"ticks\": \"\"}}, \"type\": \"scattercarpet\"}], \"scattergeo\": [{\"marker\": {\"colorbar\": {\"outlinewidth\": 0, \"ticks\": \"\"}}, \"type\": \"scattergeo\"}], \"scattergl\": [{\"marker\": {\"colorbar\": {\"outlinewidth\": 0, \"ticks\": \"\"}}, \"type\": \"scattergl\"}], \"scattermapbox\": [{\"marker\": {\"colorbar\": {\"outlinewidth\": 0, \"ticks\": \"\"}}, \"type\": \"scattermapbox\"}], \"scatterpolar\": [{\"marker\": {\"colorbar\": {\"outlinewidth\": 0, \"ticks\": \"\"}}, \"type\": \"scatterpolar\"}], \"scatterpolargl\": [{\"marker\": {\"colorbar\": {\"outlinewidth\": 0, \"ticks\": \"\"}}, \"type\": \"scatterpolargl\"}], \"scatterternary\": [{\"marker\": {\"colorbar\": {\"outlinewidth\": 0, \"ticks\": \"\"}}, \"type\": \"scatterternary\"}], \"surface\": [{\"colorbar\": {\"outlinewidth\": 0, \"ticks\": \"\"}, \"colorscale\": [[0.0, \"#0d0887\"], [0.1111111111111111, \"#46039f\"], [0.2222222222222222, \"#7201a8\"], [0.3333333333333333, \"#9c179e\"], [0.4444444444444444, \"#bd3786\"], [0.5555555555555556, \"#d8576b\"], [0.6666666666666666, \"#ed7953\"], [0.7777777777777778, \"#fb9f3a\"], [0.8888888888888888, \"#fdca26\"], [1.0, \"#f0f921\"]], \"type\": \"surface\"}], \"table\": [{\"cells\": {\"fill\": {\"color\": \"#EBF0F8\"}, \"line\": {\"color\": \"white\"}}, \"header\": {\"fill\": {\"color\": \"#C8D4E3\"}, \"line\": {\"color\": \"white\"}}, \"type\": \"table\"}]}, \"layout\": {\"annotationdefaults\": {\"arrowcolor\": \"#2a3f5f\", \"arrowhead\": 0, \"arrowwidth\": 1}, \"coloraxis\": {\"colorbar\": {\"outlinewidth\": 0, \"ticks\": \"\"}}, \"colorscale\": {\"diverging\": [[0, \"#8e0152\"], [0.1, \"#c51b7d\"], [0.2, \"#de77ae\"], [0.3, \"#f1b6da\"], [0.4, \"#fde0ef\"], [0.5, \"#f7f7f7\"], [0.6, \"#e6f5d0\"], [0.7, \"#b8e186\"], [0.8, \"#7fbc41\"], [0.9, \"#4d9221\"], [1, \"#276419\"]], \"sequential\": [[0.0, \"#0d0887\"], [0.1111111111111111, \"#46039f\"], [0.2222222222222222, \"#7201a8\"], [0.3333333333333333, \"#9c179e\"], [0.4444444444444444, \"#bd3786\"], [0.5555555555555556, \"#d8576b\"], [0.6666666666666666, \"#ed7953\"], [0.7777777777777778, \"#fb9f3a\"], [0.8888888888888888, \"#fdca26\"], [1.0, \"#f0f921\"]], \"sequentialminus\": [[0.0, \"#0d0887\"], [0.1111111111111111, \"#46039f\"], [0.2222222222222222, \"#7201a8\"], [0.3333333333333333, \"#9c179e\"], [0.4444444444444444, \"#bd3786\"], [0.5555555555555556, \"#d8576b\"], [0.6666666666666666, \"#ed7953\"], [0.7777777777777778, \"#fb9f3a\"], [0.8888888888888888, \"#fdca26\"], [1.0, \"#f0f921\"]]}, \"colorway\": [\"#636efa\", \"#EF553B\", \"#00cc96\", \"#ab63fa\", \"#FFA15A\", \"#19d3f3\", \"#FF6692\", \"#B6E880\", \"#FF97FF\", \"#FECB52\"], \"font\": {\"color\": \"#2a3f5f\"}, \"geo\": {\"bgcolor\": \"white\", \"lakecolor\": \"white\", \"landcolor\": \"#E5ECF6\", \"showlakes\": true, \"showland\": true, \"subunitcolor\": \"white\"}, \"hoverlabel\": {\"align\": \"left\"}, \"hovermode\": \"closest\", \"mapbox\": {\"style\": \"light\"}, \"paper_bgcolor\": \"white\", \"plot_bgcolor\": \"#E5ECF6\", \"polar\": {\"angularaxis\": {\"gridcolor\": \"white\", \"linecolor\": \"white\", \"ticks\": \"\"}, \"bgcolor\": \"#E5ECF6\", \"radialaxis\": {\"gridcolor\": \"white\", \"linecolor\": \"white\", \"ticks\": \"\"}}, \"scene\": {\"xaxis\": {\"backgroundcolor\": \"#E5ECF6\", \"gridcolor\": \"white\", \"gridwidth\": 2, \"linecolor\": \"white\", \"showbackground\": true, \"ticks\": \"\", \"zerolinecolor\": \"white\"}, \"yaxis\": {\"backgroundcolor\": \"#E5ECF6\", \"gridcolor\": \"white\", \"gridwidth\": 2, \"linecolor\": \"white\", \"showbackground\": true, \"ticks\": \"\", \"zerolinecolor\": \"white\"}, \"zaxis\": {\"backgroundcolor\": \"#E5ECF6\", \"gridcolor\": \"white\", \"gridwidth\": 2, \"linecolor\": \"white\", \"showbackground\": true, \"ticks\": \"\", \"zerolinecolor\": \"white\"}}, \"shapedefaults\": {\"line\": {\"color\": \"#2a3f5f\"}}, \"ternary\": {\"aaxis\": {\"gridcolor\": \"white\", \"linecolor\": \"white\", \"ticks\": \"\"}, \"baxis\": {\"gridcolor\": \"white\", \"linecolor\": \"white\", \"ticks\": \"\"}, \"bgcolor\": \"#E5ECF6\", \"caxis\": {\"gridcolor\": \"white\", \"linecolor\": \"white\", \"ticks\": \"\"}}, \"title\": {\"x\": 0.05}, \"xaxis\": {\"automargin\": true, \"gridcolor\": \"white\", \"linecolor\": \"white\", \"ticks\": \"\", \"title\": {\"standoff\": 15}, \"zerolinecolor\": \"white\", \"zerolinewidth\": 2}, \"yaxis\": {\"automargin\": true, \"gridcolor\": \"white\", \"linecolor\": \"white\", \"ticks\": \"\", \"title\": {\"standoff\": 15}, \"zerolinecolor\": \"white\", \"zerolinewidth\": 2}}}, \"title\": {\"font\": {\"color\": \"blue\", \"size\": 25}, \"text\": \"Diagram Jumlah Produksi Benih pada Budidaya Kolam dan Budidaya Karamba\"}, \"xaxis\": {\"anchor\": \"y\", \"domain\": [0.0, 1.0], \"tickfont\": {\"size\": 10}, \"title\": {\"font\": {\"size\": 15}, \"text\": \"Budidaya\"}}, \"yaxis\": {\"anchor\": \"x\", \"domain\": [0.0, 1.0], \"tickfont\": {\"size\": 10}, \"title\": {\"font\": {\"size\": 15}, \"text\": \"Jumlah Produksi Benih\"}}},\n",
              "                        {\"responsive\": true}\n",
              "                    ).then(function(){\n",
              "                            \n",
              "var gd = document.getElementById('74d06988-f71a-4402-b23a-0ca117055a0d');\n",
              "var x = new MutationObserver(function (mutations, observer) {{\n",
              "        var display = window.getComputedStyle(gd).display;\n",
              "        if (!display || display === 'none') {{\n",
              "            console.log([gd, 'removed!']);\n",
              "            Plotly.purge(gd);\n",
              "            observer.disconnect();\n",
              "        }}\n",
              "}});\n",
              "\n",
              "// Listen for the removal of the full notebook cells\n",
              "var notebookContainer = gd.closest('#notebook-container');\n",
              "if (notebookContainer) {{\n",
              "    x.observe(notebookContainer, {childList: true});\n",
              "}}\n",
              "\n",
              "// Listen for the clearing of the current output cell\n",
              "var outputEl = gd.closest('.output');\n",
              "if (outputEl) {{\n",
              "    x.observe(outputEl, {childList: true});\n",
              "}}\n",
              "\n",
              "                        })\n",
              "                };\n",
              "                \n",
              "            </script>\n",
              "        </div>\n",
              "</body>\n",
              "</html>"
            ]
          },
          "metadata": {
            "tags": []
          }
        }
      ]
    },
    {
      "cell_type": "markdown",
      "metadata": {
        "id": "ATwLuEhDlNs_"
      },
      "source": [
        "Dari hasil proses visualisasi data diatas diperoleh perbandingan antara jumlah budidaya kolam dan budidaya karamba yang menghasilkan jumlah produksi benih terbanyak yaitu budidaya kolam . "
      ]
    },
    {
      "cell_type": "markdown",
      "metadata": {
        "id": "sdkhHExxlSEq"
      },
      "source": [
        "##Insight 2\n",
        "Apakah penyebab pada budidaya tersebut menghasilkan jumlah produksi ikan terbanyak?"
      ]
    },
    {
      "cell_type": "code",
      "metadata": {
        "colab": {
          "base_uri": "https://localhost:8080/",
          "height": 542
        },
        "id": "mSMcKczjH7om",
        "outputId": "cfbf41e8-10ff-4723-e469-8ab4c58b2560"
      },
      "source": [
        "Budidaya = ['budidaya kolam', 'budidaya karamba']\n",
        "Jumlah = [ 3849404677,498224893 ]\n",
        "\n",
        "fig = go.Figure(data = [go.Pie(labels=Budidaya, values=Jumlah)])\n",
        "fig.show()"
      ],
      "execution_count": null,
      "outputs": [
        {
          "output_type": "display_data",
          "data": {
            "text/html": [
              "<html>\n",
              "<head><meta charset=\"utf-8\" /></head>\n",
              "<body>\n",
              "    <div>\n",
              "            <script src=\"https://cdnjs.cloudflare.com/ajax/libs/mathjax/2.7.5/MathJax.js?config=TeX-AMS-MML_SVG\"></script><script type=\"text/javascript\">if (window.MathJax) {MathJax.Hub.Config({SVG: {font: \"STIX-Web\"}});}</script>\n",
              "                <script type=\"text/javascript\">window.PlotlyConfig = {MathJaxConfig: 'local'};</script>\n",
              "        <script src=\"https://cdn.plot.ly/plotly-latest.min.js\"></script>    \n",
              "            <div id=\"0ed6d96f-70c3-4810-9d95-856f5c8012d3\" class=\"plotly-graph-div\" style=\"height:525px; width:100%;\"></div>\n",
              "            <script type=\"text/javascript\">\n",
              "                \n",
              "                    window.PLOTLYENV=window.PLOTLYENV || {};\n",
              "                    \n",
              "                if (document.getElementById(\"0ed6d96f-70c3-4810-9d95-856f5c8012d3\")) {\n",
              "                    Plotly.newPlot(\n",
              "                        '0ed6d96f-70c3-4810-9d95-856f5c8012d3',\n",
              "                        [{\"labels\": [\"budidaya kolam\", \"budidaya karamba\"], \"type\": \"pie\", \"values\": [3849404677, 498224893]}],\n",
              "                        {\"template\": {\"data\": {\"bar\": [{\"error_x\": {\"color\": \"#2a3f5f\"}, \"error_y\": {\"color\": \"#2a3f5f\"}, \"marker\": {\"line\": {\"color\": \"#E5ECF6\", \"width\": 0.5}}, \"type\": \"bar\"}], \"barpolar\": [{\"marker\": {\"line\": {\"color\": \"#E5ECF6\", \"width\": 0.5}}, \"type\": \"barpolar\"}], \"carpet\": [{\"aaxis\": {\"endlinecolor\": \"#2a3f5f\", \"gridcolor\": \"white\", \"linecolor\": \"white\", \"minorgridcolor\": \"white\", \"startlinecolor\": \"#2a3f5f\"}, \"baxis\": {\"endlinecolor\": \"#2a3f5f\", \"gridcolor\": \"white\", \"linecolor\": \"white\", \"minorgridcolor\": \"white\", \"startlinecolor\": \"#2a3f5f\"}, \"type\": \"carpet\"}], \"choropleth\": [{\"colorbar\": {\"outlinewidth\": 0, \"ticks\": \"\"}, \"type\": \"choropleth\"}], \"contour\": [{\"colorbar\": {\"outlinewidth\": 0, \"ticks\": \"\"}, \"colorscale\": [[0.0, \"#0d0887\"], [0.1111111111111111, \"#46039f\"], [0.2222222222222222, \"#7201a8\"], [0.3333333333333333, \"#9c179e\"], [0.4444444444444444, \"#bd3786\"], [0.5555555555555556, \"#d8576b\"], [0.6666666666666666, \"#ed7953\"], [0.7777777777777778, \"#fb9f3a\"], [0.8888888888888888, \"#fdca26\"], [1.0, \"#f0f921\"]], \"type\": \"contour\"}], \"contourcarpet\": [{\"colorbar\": {\"outlinewidth\": 0, \"ticks\": \"\"}, \"type\": \"contourcarpet\"}], \"heatmap\": [{\"colorbar\": {\"outlinewidth\": 0, \"ticks\": \"\"}, \"colorscale\": [[0.0, \"#0d0887\"], [0.1111111111111111, \"#46039f\"], [0.2222222222222222, \"#7201a8\"], [0.3333333333333333, \"#9c179e\"], [0.4444444444444444, \"#bd3786\"], [0.5555555555555556, \"#d8576b\"], [0.6666666666666666, \"#ed7953\"], [0.7777777777777778, \"#fb9f3a\"], [0.8888888888888888, \"#fdca26\"], [1.0, \"#f0f921\"]], \"type\": \"heatmap\"}], \"heatmapgl\": [{\"colorbar\": {\"outlinewidth\": 0, \"ticks\": \"\"}, \"colorscale\": [[0.0, \"#0d0887\"], [0.1111111111111111, \"#46039f\"], [0.2222222222222222, \"#7201a8\"], [0.3333333333333333, \"#9c179e\"], [0.4444444444444444, \"#bd3786\"], [0.5555555555555556, \"#d8576b\"], [0.6666666666666666, \"#ed7953\"], [0.7777777777777778, \"#fb9f3a\"], [0.8888888888888888, \"#fdca26\"], [1.0, \"#f0f921\"]], \"type\": \"heatmapgl\"}], \"histogram\": [{\"marker\": {\"colorbar\": {\"outlinewidth\": 0, \"ticks\": \"\"}}, \"type\": \"histogram\"}], \"histogram2d\": [{\"colorbar\": {\"outlinewidth\": 0, \"ticks\": \"\"}, \"colorscale\": [[0.0, \"#0d0887\"], [0.1111111111111111, \"#46039f\"], [0.2222222222222222, \"#7201a8\"], [0.3333333333333333, \"#9c179e\"], [0.4444444444444444, \"#bd3786\"], [0.5555555555555556, \"#d8576b\"], [0.6666666666666666, \"#ed7953\"], [0.7777777777777778, \"#fb9f3a\"], [0.8888888888888888, \"#fdca26\"], [1.0, \"#f0f921\"]], \"type\": \"histogram2d\"}], \"histogram2dcontour\": [{\"colorbar\": {\"outlinewidth\": 0, \"ticks\": \"\"}, \"colorscale\": [[0.0, \"#0d0887\"], [0.1111111111111111, \"#46039f\"], [0.2222222222222222, \"#7201a8\"], [0.3333333333333333, \"#9c179e\"], [0.4444444444444444, \"#bd3786\"], [0.5555555555555556, \"#d8576b\"], [0.6666666666666666, \"#ed7953\"], [0.7777777777777778, \"#fb9f3a\"], [0.8888888888888888, \"#fdca26\"], [1.0, \"#f0f921\"]], \"type\": \"histogram2dcontour\"}], \"mesh3d\": [{\"colorbar\": {\"outlinewidth\": 0, \"ticks\": \"\"}, \"type\": \"mesh3d\"}], \"parcoords\": [{\"line\": {\"colorbar\": {\"outlinewidth\": 0, \"ticks\": \"\"}}, \"type\": \"parcoords\"}], \"pie\": [{\"automargin\": true, \"type\": \"pie\"}], \"scatter\": [{\"marker\": {\"colorbar\": {\"outlinewidth\": 0, \"ticks\": \"\"}}, \"type\": \"scatter\"}], \"scatter3d\": [{\"line\": {\"colorbar\": {\"outlinewidth\": 0, \"ticks\": \"\"}}, \"marker\": {\"colorbar\": {\"outlinewidth\": 0, \"ticks\": \"\"}}, \"type\": \"scatter3d\"}], \"scattercarpet\": [{\"marker\": {\"colorbar\": {\"outlinewidth\": 0, \"ticks\": \"\"}}, \"type\": \"scattercarpet\"}], \"scattergeo\": [{\"marker\": {\"colorbar\": {\"outlinewidth\": 0, \"ticks\": \"\"}}, \"type\": \"scattergeo\"}], \"scattergl\": [{\"marker\": {\"colorbar\": {\"outlinewidth\": 0, \"ticks\": \"\"}}, \"type\": \"scattergl\"}], \"scattermapbox\": [{\"marker\": {\"colorbar\": {\"outlinewidth\": 0, \"ticks\": \"\"}}, \"type\": \"scattermapbox\"}], \"scatterpolar\": [{\"marker\": {\"colorbar\": {\"outlinewidth\": 0, \"ticks\": \"\"}}, \"type\": \"scatterpolar\"}], \"scatterpolargl\": [{\"marker\": {\"colorbar\": {\"outlinewidth\": 0, \"ticks\": \"\"}}, \"type\": \"scatterpolargl\"}], \"scatterternary\": [{\"marker\": {\"colorbar\": {\"outlinewidth\": 0, \"ticks\": \"\"}}, \"type\": \"scatterternary\"}], \"surface\": [{\"colorbar\": {\"outlinewidth\": 0, \"ticks\": \"\"}, \"colorscale\": [[0.0, \"#0d0887\"], [0.1111111111111111, \"#46039f\"], [0.2222222222222222, \"#7201a8\"], [0.3333333333333333, \"#9c179e\"], [0.4444444444444444, \"#bd3786\"], [0.5555555555555556, \"#d8576b\"], [0.6666666666666666, \"#ed7953\"], [0.7777777777777778, \"#fb9f3a\"], [0.8888888888888888, \"#fdca26\"], [1.0, \"#f0f921\"]], \"type\": \"surface\"}], \"table\": [{\"cells\": {\"fill\": {\"color\": \"#EBF0F8\"}, \"line\": {\"color\": \"white\"}}, \"header\": {\"fill\": {\"color\": \"#C8D4E3\"}, \"line\": {\"color\": \"white\"}}, \"type\": \"table\"}]}, \"layout\": {\"annotationdefaults\": {\"arrowcolor\": \"#2a3f5f\", \"arrowhead\": 0, \"arrowwidth\": 1}, \"coloraxis\": {\"colorbar\": {\"outlinewidth\": 0, \"ticks\": \"\"}}, \"colorscale\": {\"diverging\": [[0, \"#8e0152\"], [0.1, \"#c51b7d\"], [0.2, \"#de77ae\"], [0.3, \"#f1b6da\"], [0.4, \"#fde0ef\"], [0.5, \"#f7f7f7\"], [0.6, \"#e6f5d0\"], [0.7, \"#b8e186\"], [0.8, \"#7fbc41\"], [0.9, \"#4d9221\"], [1, \"#276419\"]], \"sequential\": [[0.0, \"#0d0887\"], [0.1111111111111111, \"#46039f\"], [0.2222222222222222, \"#7201a8\"], [0.3333333333333333, \"#9c179e\"], [0.4444444444444444, \"#bd3786\"], [0.5555555555555556, \"#d8576b\"], [0.6666666666666666, \"#ed7953\"], [0.7777777777777778, \"#fb9f3a\"], [0.8888888888888888, \"#fdca26\"], [1.0, \"#f0f921\"]], \"sequentialminus\": [[0.0, \"#0d0887\"], [0.1111111111111111, \"#46039f\"], [0.2222222222222222, \"#7201a8\"], [0.3333333333333333, \"#9c179e\"], [0.4444444444444444, \"#bd3786\"], [0.5555555555555556, \"#d8576b\"], [0.6666666666666666, \"#ed7953\"], [0.7777777777777778, \"#fb9f3a\"], [0.8888888888888888, \"#fdca26\"], [1.0, \"#f0f921\"]]}, \"colorway\": [\"#636efa\", \"#EF553B\", \"#00cc96\", \"#ab63fa\", \"#FFA15A\", \"#19d3f3\", \"#FF6692\", \"#B6E880\", \"#FF97FF\", \"#FECB52\"], \"font\": {\"color\": \"#2a3f5f\"}, \"geo\": {\"bgcolor\": \"white\", \"lakecolor\": \"white\", \"landcolor\": \"#E5ECF6\", \"showlakes\": true, \"showland\": true, \"subunitcolor\": \"white\"}, \"hoverlabel\": {\"align\": \"left\"}, \"hovermode\": \"closest\", \"mapbox\": {\"style\": \"light\"}, \"paper_bgcolor\": \"white\", \"plot_bgcolor\": \"#E5ECF6\", \"polar\": {\"angularaxis\": {\"gridcolor\": \"white\", \"linecolor\": \"white\", \"ticks\": \"\"}, \"bgcolor\": \"#E5ECF6\", \"radialaxis\": {\"gridcolor\": \"white\", \"linecolor\": \"white\", \"ticks\": \"\"}}, \"scene\": {\"xaxis\": {\"backgroundcolor\": \"#E5ECF6\", \"gridcolor\": \"white\", \"gridwidth\": 2, \"linecolor\": \"white\", \"showbackground\": true, \"ticks\": \"\", \"zerolinecolor\": \"white\"}, \"yaxis\": {\"backgroundcolor\": \"#E5ECF6\", \"gridcolor\": \"white\", \"gridwidth\": 2, \"linecolor\": \"white\", \"showbackground\": true, \"ticks\": \"\", \"zerolinecolor\": \"white\"}, \"zaxis\": {\"backgroundcolor\": \"#E5ECF6\", \"gridcolor\": \"white\", \"gridwidth\": 2, \"linecolor\": \"white\", \"showbackground\": true, \"ticks\": \"\", \"zerolinecolor\": \"white\"}}, \"shapedefaults\": {\"line\": {\"color\": \"#2a3f5f\"}}, \"ternary\": {\"aaxis\": {\"gridcolor\": \"white\", \"linecolor\": \"white\", \"ticks\": \"\"}, \"baxis\": {\"gridcolor\": \"white\", \"linecolor\": \"white\", \"ticks\": \"\"}, \"bgcolor\": \"#E5ECF6\", \"caxis\": {\"gridcolor\": \"white\", \"linecolor\": \"white\", \"ticks\": \"\"}}, \"title\": {\"x\": 0.05}, \"xaxis\": {\"automargin\": true, \"gridcolor\": \"white\", \"linecolor\": \"white\", \"ticks\": \"\", \"title\": {\"standoff\": 15}, \"zerolinecolor\": \"white\", \"zerolinewidth\": 2}, \"yaxis\": {\"automargin\": true, \"gridcolor\": \"white\", \"linecolor\": \"white\", \"ticks\": \"\", \"title\": {\"standoff\": 15}, \"zerolinecolor\": \"white\", \"zerolinewidth\": 2}}}},\n",
              "                        {\"responsive\": true}\n",
              "                    ).then(function(){\n",
              "                            \n",
              "var gd = document.getElementById('0ed6d96f-70c3-4810-9d95-856f5c8012d3');\n",
              "var x = new MutationObserver(function (mutations, observer) {{\n",
              "        var display = window.getComputedStyle(gd).display;\n",
              "        if (!display || display === 'none') {{\n",
              "            console.log([gd, 'removed!']);\n",
              "            Plotly.purge(gd);\n",
              "            observer.disconnect();\n",
              "        }}\n",
              "}});\n",
              "\n",
              "// Listen for the removal of the full notebook cells\n",
              "var notebookContainer = gd.closest('#notebook-container');\n",
              "if (notebookContainer) {{\n",
              "    x.observe(notebookContainer, {childList: true});\n",
              "}}\n",
              "\n",
              "// Listen for the clearing of the current output cell\n",
              "var outputEl = gd.closest('.output');\n",
              "if (outputEl) {{\n",
              "    x.observe(outputEl, {childList: true});\n",
              "}}\n",
              "\n",
              "                        })\n",
              "                };\n",
              "                \n",
              "            </script>\n",
              "        </div>\n",
              "</body>\n",
              "</html>"
            ]
          },
          "metadata": {
            "tags": []
          }
        }
      ]
    },
    {
      "cell_type": "markdown",
      "metadata": {
        "id": "wqn5qtedIxqe"
      },
      "source": [
        "Terbukti bahwa budidaya kolam menghasilkan jumlah produk si ikan terbanyak dengan besar presentase 88.5%. Faktanya,Kenaikan nilai produksi perikanan budidaya menurut jenis budidaya berturutturut adalah budidaya kolam sebesar 303%,keramba (237%).\n",
        "Sebaran jumlah RTP pembudidaya ikan berdasarkan pulau memperlihatkan bahwa RTP\n",
        "pembudidaya ikan terbanyak adalah RTP Budidaya Kolam di Pulau Jawa, sedangkan\n",
        "RTP Mina Padi di Maluku-Papua merupakan jumlah RTP terkecil. \n",
        "\n",
        "\n",
        "https://www.bappenas.go.id/files/7614/4401/4206/Strategi_Pengelolaan_Perikanan_Berkelanjutan.pdf"
      ]
    }
  ]
}
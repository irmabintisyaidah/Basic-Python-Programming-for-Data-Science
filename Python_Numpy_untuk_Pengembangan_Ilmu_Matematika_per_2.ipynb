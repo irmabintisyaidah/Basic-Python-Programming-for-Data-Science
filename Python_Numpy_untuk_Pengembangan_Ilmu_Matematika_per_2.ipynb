{
  "nbformat": 4,
  "nbformat_minor": 0,
  "metadata": {
    "colab": {
      "name": "Python Numpy_untuk_Pengembangan_Ilmu_Matematika per 2.ipynb",
      "provenance": []
    },
    "kernelspec": {
      "name": "python3",
      "display_name": "Python 3"
    },
    "language_info": {
      "name": "python"
    }
  },
  "cells": [
    {
      "cell_type": "code",
      "metadata": {
        "id": "w-VZ4LxRvXsJ"
      },
      "source": [
        "import matplotlib.pyplot as plt \n",
        "import numpy as np\n",
        "import pandas as pd\n",
        "import scipy.stats as stats "
      ],
      "execution_count": null,
      "outputs": []
    },
    {
      "cell_type": "code",
      "metadata": {
        "id": "Aee2eQ5by2fD"
      },
      "source": [
        "%matplotlib inline"
      ],
      "execution_count": null,
      "outputs": []
    },
    {
      "cell_type": "code",
      "metadata": {
        "id": "cHqo6HAwy6x9"
      },
      "source": [
        "y = np.random.random(140)\n",
        "x =np.arange(len(y))"
      ],
      "execution_count": null,
      "outputs": []
    },
    {
      "cell_type": "code",
      "metadata": {
        "colab": {
          "base_uri": "https://localhost:8080/"
        },
        "id": "PHH9KnBYzPce",
        "outputId": "8ec43f68-2651-4339-cfa0-ca70feef8113"
      },
      "source": [
        "print (max(y), min(y))"
      ],
      "execution_count": null,
      "outputs": [
        {
          "output_type": "stream",
          "text": [
            "0.9966777153702742 0.019106703656228574\n"
          ],
          "name": "stdout"
        }
      ]
    },
    {
      "cell_type": "code",
      "metadata": {
        "colab": {
          "base_uri": "https://localhost:8080/",
          "height": 282
        },
        "id": "lW_il8owzTUJ",
        "outputId": "7a23956b-6e8f-42b4-af85-726310ae2d44"
      },
      "source": [
        "plt.scatter(x,y)\n",
        "print('Banyak data')"
      ],
      "execution_count": null,
      "outputs": [
        {
          "output_type": "stream",
          "text": [
            "Banyak data\n"
          ],
          "name": "stdout"
        },
        {
          "output_type": "display_data",
          "data": {
            "image/png": "[encoded data removed]",
            "text/plain": [
              "<Figure size 432x288 with 1 Axes>"
            ]
          },
          "metadata": {
            "tags": [],
            "needs_background": "light"
          }
        }
      ]
    },
    {
      "cell_type": "code",
      "metadata": {
        "id": "UVSekgnOzXOy"
      },
      "source": [
        "y[16] = 40\n",
        "y[106] = 50"
      ],
      "execution_count": null,
      "outputs": []
    },
    {
      "cell_type": "code",
      "metadata": {
        "colab": {
          "base_uri": "https://localhost:8080/",
          "height": 282
        },
        "id": "PM3DMiPyzlAD",
        "outputId": "2607a9f3-586c-43c2-8747-d3a187c65191"
      },
      "source": [
        "plt.scatter(x,y)\n",
        "print('Scater dari penyerapan nilai y')"
      ],
      "execution_count": null,
      "outputs": [
        {
          "output_type": "stream",
          "text": [
            "Scater dari penyerapan nilai y\n"
          ],
          "name": "stdout"
        },
        {
          "output_type": "display_data",
          "data": {
            "image/png": "[encoded data removed]",
            "text/plain": [
              "<Figure size 432x288 with 1 Axes>"
            ]
          },
          "metadata": {
            "tags": [],
            "needs_background": "light"
          }
        }
      ]
    },
    {
      "cell_type": "code",
      "metadata": {
        "id": "STWYa_ymzpqv"
      },
      "source": [
        "def grubbs_stat(y):\n",
        "  std_dev = np.std(y)\n",
        "  avg_y = np.mean(y)"
      ],
      "execution_count": null,
      "outputs": []
    },
    {
      "cell_type": "code",
      "metadata": {
        "id": "NOmHaQFcJnEP"
      },
      "source": [
        "def grubbs_stat(y):\n",
        "  # Simpangan y\n",
        "  std_dev = np.std(y)\n",
        "  # Rata-rata y\n",
        "  avg_y = np.mean(y)\n",
        "  # Nilai Mutlak selisih data dengan rata-rata\n",
        "  abs_val_minus_avg = abs(y - avg_y)\n",
        "  # Nilai Maksimal Selisih\n",
        "  max_of_deviations = max(abs_val_minus_avg)\n",
        "  # Indeks Nilai Maksimal Selisih\n",
        "  max_ind = np.argmax(abs_val_minus_avg)\n",
        "  # Menghitung GCAL\n",
        "  Gcal = max_of_deviations/ std_dev\n",
        "  print(\"Grubbs Statistics Value : {}\".format(Gcal))\n",
        "  return Gcal,max_ind"
      ],
      "execution_count": null,
      "outputs": []
    },
    {
      "cell_type": "code",
      "metadata": {
        "id": "O5CW2jFVJqdG"
      },
      "source": [
        "def calculate_critical_value(size, alpha):\n",
        "    t_dist = stats.t.ppf(1 - alpha /(2 * size), size - 2)\n",
        "    numerator = (size - 1) * np.sqrt(np.square(t_dist))\n",
        "    denominator = np.sqrt(size) * np.sqrt(size -2 +np.square(t_dist))\n",
        "    critical_value = numerator / denominator\n",
        "    print(\"Grubbs Critical Value: {}\".format(critical_value))\n",
        "    return critical_value"
      ],
      "execution_count": null,
      "outputs": []
    },
    {
      "cell_type": "code",
      "metadata": {
        "id": "JU60eZmKJuCI"
      },
      "source": [
        "def check_G_values(Gs, Gc, inp, max_index):\n",
        "  if Gs > Gc:\n",
        "    print(\n",
        "      \"{}  is an outlier. G > G-critical: {:.4f} ?  > {:.4f} \\n\".format(\n",
        "          inp[max_index], Gs, Gc\n",
        "      )\n",
        "    )\n",
        "  else:\n",
        "    print(\n",
        "        \"{} is not  an outlier. G > G-critical: {:.4f} ?  > {:.4f} \\n\".format(\n",
        "            inp[max_index], Gs, Gc\n",
        "      )\n",
        "    )"
      ],
      "execution_count": null,
      "outputs": []
    },
    {
      "cell_type": "code",
      "metadata": {
        "id": "mxtjolHiJvEj"
      },
      "source": [
        "def ESD_Test(input_series, alpha, max_outliers):\n",
        "    for iterations in range(max_outliers):\n",
        "        Gcritical = calculate_critical_value(len(input_series), alpha)\n",
        "        Gstat, max_index = grubbs_stat(input_series)\n",
        "        check_G_values(Gstat, Gcritical, input_series, max_index)\n",
        "        input_series = np.delete(input_series, max_index)"
      ],
      "execution_count": null,
      "outputs": []
    },
    {
      "cell_type": "code",
      "metadata": {
        "id": "FHkXAWjCJzKG",
        "colab": {
          "base_uri": "https://localhost:8080/"
        },
        "outputId": "ef07ef92-1a97-4aac-e257-5a6b4a389452"
      },
      "source": [
        "ESD_Test(y, 0.05, 3)"
      ],
      "execution_count": null,
      "outputs": [
        {
          "output_type": "stream",
          "text": [
            "Grubbs Critical Value: 3.49510889915825\n",
            "Grubbs Statistics Value : 9.183370520818274\n",
            "50.0  is an outlier. G > G-critical: 9.1834 ?  > 3.4951 \n",
            "\n",
            "Grubbs Critical Value: 3.4928175069609186\n",
            "Grubbs Statistics Value : 11.70839343934217\n",
            "40.0  is an outlier. G > G-critical: 11.7084 ?  > 3.4928 \n",
            "\n",
            "Grubbs Critical Value: 3.490506499576398\n",
            "Grubbs Statistics Value : 1.87085487711767\n",
            "0.019106703656228574 is not  an outlier. G > G-critical: 1.8709 ?  > 3.4905 \n",
            "\n"
          ],
          "name": "stdout"
        }
      ]
    }
  ]
}
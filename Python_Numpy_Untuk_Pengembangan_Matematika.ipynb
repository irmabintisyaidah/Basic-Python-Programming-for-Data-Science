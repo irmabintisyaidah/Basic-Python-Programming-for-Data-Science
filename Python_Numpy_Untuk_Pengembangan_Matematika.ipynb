{
  "nbformat": 4,
  "nbformat_minor": 0,
  "metadata": {
    "colab": {
      "name": "Python_Numpy_Untuk_Pengembangan_Matematika.ipynb",
      "provenance": [],
      "collapsed_sections": [],
      "toc_visible": true
    },
    "kernelspec": {
      "name": "python3",
      "display_name": "Python 3"
    },
    "language_info": {
      "name": "python"
    }
  },
  "cells": [
    {
      "cell_type": "markdown",
      "metadata": {
        "id": "W6FLlh_BDNA9"
      },
      "source": [
        "## Python Numpy Untuk Pengembangan Matematika\n",
        "Assalamualaikum warahmatullahi wabarakatuh.\n",
        "Robbi Zidni Ilma Warzuqni Fahma\n",
        "Selamat datang di salah satu notebook utama Kelas Dasar, Pejuang Data 2.0.\n",
        "\n",
        "Dalam Notebook ini, temen-temen akan belajar menggunakan Numpy untuk menuliskan model-model atau permasalahan matematika untuk pengembangan dan penelitian.\n",
        "\n",
        "Ini adalah salah satu tujuan utama kelas ini, yaitu memberikan bekal kepada mahasiswa Matematika agar bisa membangun sendiri model-model permasalahan Matematika ke dalam bahasa pemrograman Python. \n",
        "\n",
        "Ada beberapa tips agar bisa dengan cepat bisa membuat pemrograman dari suatu model matematika:\n",
        "1. Pahami benar model atau langkah-langkah suatu metode(misal model Regresi Linear).\n",
        "2. Pahami tipe data berkaitan dengan metode tersebut(numerik atau string). Jika berkaitan dengan bilangan float maka perhatikan dengan baik pembulatan yang terjadi saat proses penghitungan.\n",
        "3. Kuasai benar konsep dasar pemrograman seperti if, for loop, while loop, function, inout-output, dll.\n",
        "4. Sering berlatih membuat kode from scratch(dari dasar) bukan memnggunakan library atau packages\n",
        "\n"
      ]
    },
    {
      "cell_type": "markdown",
      "metadata": {
        "id": "cN7PRZVeExRy"
      },
      "source": [
        "## Beberapa Contoh Sederhana"
      ]
    },
    {
      "cell_type": "markdown",
      "metadata": {
        "id": "HigQ7QUrE0ME"
      },
      "source": [
        "### Mean, Median, Modus"
      ]
    },
    {
      "cell_type": "code",
      "metadata": {
        "id": "Qc1337mqDH17"
      },
      "source": [
        "import numpy as np\n",
        "dataset=np.array([1,1,2,3,4,6,18])"
      ],
      "execution_count": null,
      "outputs": []
    },
    {
      "cell_type": "markdown",
      "metadata": {
        "id": "PWDDbpc-FUtz"
      },
      "source": [
        "**Mean, Median, Modus** menggunakan function numpy"
      ]
    },
    {
      "cell_type": "code",
      "metadata": {
        "colab": {
          "base_uri": "https://localhost:8080/"
        },
        "id": "040-__DIFILj",
        "outputId": "b237e4fd-1e7b-4862-b422-86fcda6d0e0f"
      },
      "source": [
        "#Rata-rata\n",
        "Rata2=np.mean(dataset)\n",
        "print('Rata-rata', Rata2)\n",
        "\n",
        "#Median\n",
        "Median=np.median(dataset)\n",
        "print('Median', Median)\n",
        "\n",
        "#Modus\n",
        "from scipy import stats\n",
        "Modus=stats.mode(dataset)\n",
        "print('Modus', Modus)"
      ],
      "execution_count": null,
      "outputs": [
        {
          "output_type": "stream",
          "text": [
            "Rata-rata 5.0\n",
            "Median 3.0\n",
            "Modus ModeResult(mode=array([1]), count=array([2]))\n"
          ],
          "name": "stdout"
        }
      ]
    },
    {
      "cell_type": "markdown",
      "metadata": {
        "id": "0Xe-QMzSG6-u"
      },
      "source": [
        "Khusus untuk Modus kita mengimpor suatu fungsi stats dari Library Scipy yang merupakan Library Numpy yang lebih lengkap untuk Matematika dan Data Science. Di sana tersedia fungsi-fungsi untuk kalkulus, PD dll. Mirip seperti tool box pada Matlab.\n"
      ]
    },
    {
      "cell_type": "markdown",
      "metadata": {
        "id": "LAnOojflHb7y"
      },
      "source": [
        "Notebook ini disusun untuk temen-temen memahami proses pembangunan koding dari dasar. Pada saat pembelajaran nanti kita akan fokus pada ide, masalah, dan step by step penyelesaiannya."
      ]
    },
    {
      "cell_type": "markdown",
      "metadata": {
        "id": "8QaJOFoUH2UQ"
      },
      "source": [
        "**Mean**\n",
        "\n",
        "Jawab pertanyaan-pertanyaan berikut untuk membuat program/fungsi untuk menghitung mean.\n",
        "\n",
        "1. Apa itu mean?\n",
        "2. Bagaimana cara menghitung mean?\n",
        "3. Apa yang harus diketahui(Input)?\n",
        "4. Apa yang akan dihasilkan?\n",
        "5. Apa masalah yang mungkin menghalangi?"
      ]
    },
    {
      "cell_type": "markdown",
      "metadata": {
        "id": "Kd4zV8tOIrDe"
      },
      "source": [
        "Berikut contoh koding menghitung mean dalam bahasa Inggris. Silahkan gunakan sebagai petunjuk!!!\n",
        "\n",
        "```\n",
        "num_list = [21, 11, 19, 3,11,5]\n",
        "# FInd sum of the numbers\n",
        "num_sum = sum(num_list)\n",
        "#divide the sum with length of the list\n",
        "mean = num_sum / len(num_list)\n",
        "print(num_list)\n",
        "print(\"Mean of the above list of numbers is: \" + str(round(mean,2)))\n",
        "```"
      ]
    },
    {
      "cell_type": "code",
      "metadata": {
        "id": "-FQI1ghHIoGb",
        "colab": {
          "base_uri": "https://localhost:8080/"
        },
        "outputId": "16ca1fe0-4e30-4097-d12a-be173bf392c1"
      },
      "source": [
        "# Mean\n",
        "# Buatlah program/fungsi menghitung mean di sini!\n",
        "num_list = [2, 22, 32, 3, 14, 56, 24, 6]\n",
        "num_sum = sum(num_list)\n",
        "mean = num_sum / len(num_list)\n",
        "print(num_list)\n",
        "print(\"Mean of the above list of numbers is: \" + str(round(mean,5)))"
      ],
      "execution_count": null,
      "outputs": [
        {
          "output_type": "stream",
          "text": [
            "[2, 22, 32, 3, 14, 56, 24, 6]\n",
            "Mean of the above list of numbers is: 19.875\n"
          ],
          "name": "stdout"
        }
      ]
    },
    {
      "cell_type": "markdown",
      "metadata": {
        "id": "bb3KeThMIu3Z"
      },
      "source": [
        "**Median**"
      ]
    },
    {
      "cell_type": "markdown",
      "metadata": {
        "id": "gwpWLRjMI2GI"
      },
      "source": [
        "Jawab pertanyaan-pertanyaan berikut untuk membuat program/fungsi untuk menghitung mean.\n",
        "\n",
        "1. Apa itu median? Nilai tengah\n",
        "2. Bagaimana cara menghitung median? \n",
        "  *urutkan terlebih dahulu dari angka yang terkecil hingga yang ke terbesar.\n",
        "  *Temukan angka tengah dari data tersebut. Angka yang didapatkan tergantung jumlah data yang genap atau ganjil. Berikut hal-hal yang perlu dilakukan dalam kedua situasi:\n",
        "  *Jika jumlahnya ganjil, silanglah angka paling kiri, kemudian angka paling kanan, dan ulangi (dihitung jumlahnya)\n",
        "  *Jika tersisa satu angka ditengah, maka itulah mediannya.\n",
        "Jika jumlahnya genap, silangkan angka di kanan dan kirinya, dan akan tertinggal dua angka tersisa di tengah. Jumlahkan keduanya dan bagilah dengan dua untuk mencari nilai mediannya (Jika kedua angka di tengah sama, maka angka tersebut adalah median).\n",
        "3. Adakah masalah percabangan atau perulangan?\n",
        "4. Apa yang harus diketahui(Input)?\n",
        "5. Apa yang akan dihasilkan?\n",
        "6. Apa masalah yang mungkin menghalangi?"
      ]
    },
    {
      "cell_type": "markdown",
      "metadata": {
        "id": "oLcGkLjZIoGa"
      },
      "source": [
        "Berikut contoh koding menghitung mean dalam bahasa Inggris. Silahkan gunakan sebagai petunjuk!!!\n",
        "\n",
        "```\n",
        "num_list = [21, 13, 19, 3,11,5]\n",
        "# Sort the list\n",
        "num_list.sort()\n",
        "# Finding the position of the median\n",
        "if len(num_list) % 2 == 0:\n",
        "   first_median = num_list[len(num_list) // 2]\n",
        "   second_median = num_list[len(num_list) // 2 - 1]\n",
        "   median = (first_median + second_median) / 2\n",
        "else:\n",
        "   median = num_list[len(num_list) // 2]\n",
        "print(num_list)\n",
        "print(\"Median of above list is: \" + str(median))\n",
        "```"
      ]
    },
    {
      "cell_type": "code",
      "metadata": {
        "colab": {
          "base_uri": "https://localhost:8080/"
        },
        "id": "L_OrF4x7bS3g",
        "outputId": "273cdb5e-bbfa-4820-f323-ff6eb30cb25f"
      },
      "source": [
        "num_list = [67, 6, 34, 11, 23, 7 , 86]\n",
        "# Sort the list\n",
        "num_list.sort()\n",
        "if len(num_list) % 3 == 0:\n",
        "   first_median = num_list[len(num_list) // 3]\n",
        "   second_median = num_list[len(num_list) // 3 - 2]\n",
        "   median = (first_median + second_median) / 3\n",
        "else:\n",
        "   median = num_list[len(num_list) // 3]\n",
        "print(num_list)\n",
        "print(\"Median of above list is: \" + str(median))"
      ],
      "execution_count": null,
      "outputs": [
        {
          "output_type": "stream",
          "text": [
            "[6, 7, 11, 23, 34, 67, 86]\n",
            "Median of above list is: 11\n"
          ],
          "name": "stdout"
        }
      ]
    },
    {
      "cell_type": "markdown",
      "metadata": {
        "id": "UBkGY3mfJOgk"
      },
      "source": [
        "**Modus**"
      ]
    },
    {
      "cell_type": "markdown",
      "metadata": {
        "id": "TAzaPS07JOgk"
      },
      "source": [
        "Jawab pertanyaan-pertanyaan berikut untuk membuat program/fungsi untuk menghitung mean.\n",
        "\n",
        "1. Apa itu modus? nilai yang paling banyak muncul\n",
        "2. Bagaimana cara menghitung modus? Adapun cara menghitung modus adalah dengan mencari nilai yang paling sering muncul pada sebuah data.\n",
        "  Dengan kata lain, mengurutkan nilai sebuah data dari rendah ke tinggi, yang mana nilai yang paling banyak disebut merupakan modus dari data tersebut.\n",
        "3. Adakah masalah percabangan atau perulangan?\n",
        "4. Apa yang harus diketahui(Input)?\n",
        "5. Apa yang akan dihasilkan?\n",
        "6. Apa masalah yang mungkin menghalangi?"
      ]
    },
    {
      "cell_type": "markdown",
      "metadata": {
        "id": "wfkohVPMJOgl"
      },
      "source": [
        "Berikut contoh koding menghitung mean dalam bahasa Inggris. Silahkan gunakan sebagai petunjuk!!!\n",
        "\n",
        "```\n",
        "import collections\n",
        "# list of elements to calculate mode\n",
        "num_list = [21, 13, 19, 13,19,13]\n",
        "\n",
        "# Print the list\n",
        "print(num_list)\n",
        "\n",
        "# calculate the frequency of each item\n",
        "data = collections.Counter(num_list)\n",
        "data_list = dict(data)\n",
        "\n",
        "# Print the items with frequency\n",
        "print(data_list)\n",
        "\n",
        "# Find the highest frequency\n",
        "max_value = max(list(data.values()))\n",
        "mode_val = [num for num, freq in data_list.items() if freq == max_value]\n",
        "if len(mode_val) == len(num_list):\n",
        "   print(\"No mode in the list\")\n",
        "else:\n",
        "   print(\"The Mode of the list is : \" + ', '.join(map(str, mode_val)))\n",
        "```"
      ]
    },
    {
      "cell_type": "code",
      "metadata": {
        "id": "H_9_1DvLJOgl",
        "colab": {
          "base_uri": "https://localhost:8080/"
        },
        "outputId": "c9918ec2-1463-4db0-ffe0-14bb1ff60170"
      },
      "source": [
        "# Modus\n",
        "# Buatlah program/fungsi menghitung Modus di sini!\n",
        "import collections\n",
        "# list of elements to calculate mode\n",
        "num_list = [67, 6, 34, 11, 23, 7 , 86]\n",
        "print(num_list)\n",
        " \n",
        "data = collections.Counter(num_list)\n",
        "data_list = dict(data)\n",
        "print(data_list)\n",
        " \n",
        "max_value = max(list(data.values()))\n",
        "mode_val = [num for num, freq in data_list.items() if freq == max_value]\n",
        "if len(mode_val) == len(num_list):\n",
        "   print(\"No mode in the list\")\n",
        "else:\n",
        "   print(\"The Mode of the list is : \" + ', '.join(map(str, mode_val)))"
      ],
      "execution_count": null,
      "outputs": [
        {
          "output_type": "stream",
          "text": [
            "[67, 6, 34, 11, 23, 7, 86]\n",
            "{67: 1, 6: 1, 34: 1, 11: 1, 23: 1, 7: 1, 86: 1}\n",
            "No mode in the list\n"
          ],
          "name": "stdout"
        }
      ]
    },
    {
      "cell_type": "markdown",
      "metadata": {
        "id": "DpBiMZoEJeQ_"
      },
      "source": [
        "## Ngoding Regresi Linear"
      ]
    },
    {
      "cell_type": "markdown",
      "metadata": {
        "id": "cVnpnTHDJhHb"
      },
      "source": [
        "Pada bagian ini kamu akan berlatih membuat kode pemrograman didasarkan pada sebuah penghitungan matematis yang sudah tersedia. Mulai dengan langkah-langkah sederhana dan contoh yang sederhana."
      ]
    },
    {
      "cell_type": "markdown",
      "metadata": {
        "id": "sk1wtVn8LBU8"
      },
      "source": [
        "Regresi Linear adalah ...\n",
        "\n",
        "https://teknikelektronika.com/analisis-regresi-linear-sederhana-simple-linear-regression/\n",
        "\n",
        "\n",
        "https://www.geeksforgeeks.org/linear-regression-python-implementation/\n",
        "\n",
        "\n"
      ]
    },
    {
      "cell_type": "markdown",
      "metadata": {
        "id": "AXq5q2bSJtuK"
      },
      "source": [
        "**[1] Import Library yang dibutuhkan**\n"
      ]
    },
    {
      "cell_type": "code",
      "metadata": {
        "id": "y3IrlqJfKMms"
      },
      "source": [
        "#Impor library numpy\n",
        "\n",
        "import numpy as np\n"
      ],
      "execution_count": null,
      "outputs": []
    },
    {
      "cell_type": "markdown",
      "metadata": {
        "id": "TP4QODpDKbrL"
      },
      "source": [
        "**[2] Siapkan Data Dalam Bentuk Array**\n",
        "\n",
        "Siapkan data x dan y sebagai berikut:\n",
        "\n",
        "```\n",
        "x=[0, 1, 2, 3, 4, 5, 5, 7, 8, 9]\n",
        "y=[1, 3, 2, 5, 7, 8, 8, 9, 10, 12]\n",
        "\n",
        "```"
      ]
    },
    {
      "cell_type": "code",
      "metadata": {
        "id": "vffaYMUqK1au",
        "colab": {
          "base_uri": "https://localhost:8080/"
        },
        "outputId": "7803b7ef-389e-4966-e9e8-703208a6aa22"
      },
      "source": [
        "# Dataset yang digunakan\n",
        "# Data x\n",
        "x = np.array([0, 1, 2, 3, 4, 5, 5, 7, 8, 9])\n",
        "print(x)\n",
        "# Data y\n",
        "y = np.array([1, 3, 2, 5, 7, 8, 8, 9, 10, 12])\n",
        "print(y)"
      ],
      "execution_count": null,
      "outputs": [
        {
          "output_type": "stream",
          "text": [
            "[0 1 2 3 4 5 5 7 8 9]\n",
            "[ 1  3  2  5  7  8  8  9 10 12]\n"
          ],
          "name": "stdout"
        }
      ]
    },
    {
      "cell_type": "markdown",
      "metadata": {
        "id": "hpJ5HUDfK4GF"
      },
      "source": [
        "**[3] Menghitung Jumlah Data**"
      ]
    },
    {
      "cell_type": "code",
      "metadata": {
        "id": "dSKTWa_ELbkz",
        "colab": {
          "base_uri": "https://localhost:8080/"
        },
        "outputId": "1575c307-f446-4810-8ff9-abcbf75c4e69"
      },
      "source": [
        "# Menghitung jumlah data (x)\n",
        "# Simpan dalam variabel n\n",
        "n = np.sum(x)\n",
        "print(n)"
      ],
      "execution_count": null,
      "outputs": [
        {
          "output_type": "stream",
          "text": [
            "44\n"
          ],
          "name": "stdout"
        }
      ]
    },
    {
      "cell_type": "markdown",
      "metadata": {
        "id": "MOp9oi5TLlLc"
      },
      "source": [
        "**[4] Menghitung rata-rata masing-masing vektor x dan y**"
      ]
    },
    {
      "cell_type": "code",
      "metadata": {
        "id": "KVsym4bJLrLw",
        "colab": {
          "base_uri": "https://localhost:8080/"
        },
        "outputId": "0fdd2ebd-0678-4601-da69-03b9e2b7ca33"
      },
      "source": [
        "# Menghitung rata-rata vektor x dan y\n",
        "# Simpan dalam m_x\n",
        "m_x = np.mean(x)\n",
        "print(\"rata rata x = \",m_x)\n",
        "# Simpan dalam m_y\n",
        "m_y = np.mean(y)\n",
        "print(\"rata rata y = \",m_y)"
      ],
      "execution_count": null,
      "outputs": [
        {
          "output_type": "stream",
          "text": [
            "rata rata x =  4.4\n",
            "rata rata y =  6.5\n"
          ],
          "name": "stdout"
        }
      ]
    },
    {
      "cell_type": "markdown",
      "metadata": {
        "id": "rmHLx_PeOqEQ"
      },
      "source": [
        "**[5] Hitung cross-deviation dan deviation dari x**\n",
        "```\n",
        "SS_xy=jumlahan(y*x)-(n*mean(y)*mean(x))\n",
        "SS_xx=jumlahan(x*x)-(n*mean(x)*mean(x))\n",
        "```"
      ]
    },
    {
      "cell_type": "code",
      "metadata": {
        "id": "eSJ-PoR0PFOn",
        "colab": {
          "base_uri": "https://localhost:8080/"
        },
        "outputId": "a0e00ac0-313a-42b6-8f07-a3a0db218ba9"
      },
      "source": [
        "## SS_xy\n",
        "SS_xy=np.sum(y*x)-(n*np.mean(y)*np.mean(x))\n",
        "print(SS_xy)\n",
        "## SS_xx\n",
        "SS_xx=np.sum(x*x)-(n*np.mean(x)*np.mean(x))\n",
        "print(SS_xy)\n"
      ],
      "execution_count": null,
      "outputs": [
        {
          "output_type": "stream",
          "text": [
            "-877.4000000000001\n",
            "-877.4000000000001\n"
          ],
          "name": "stdout"
        }
      ]
    },
    {
      "cell_type": "markdown",
      "metadata": {
        "id": "CfBcOQg0LyGv"
      },
      "source": [
        "**[6] Menghitung koefisien regresi b1 dan b0**\n",
        "\n",
        "```\n",
        "b_1 = SS_xy / SS_xx\n",
        "b_0 = m_y - b_1*m_x\n",
        "```"
      ]
    },
    {
      "cell_type": "code",
      "metadata": {
        "id": "1nafVsHFPqdG",
        "colab": {
          "base_uri": "https://localhost:8080/"
        },
        "outputId": "ec14177b-d62c-4fbb-fc50-d6d105da9d98"
      },
      "source": [
        "## b_1\n",
        "b_1 = SS_xy / SS_xx\n",
        "print(b_1)\n",
        "## b_0\n",
        "b_0 = m_y - b_1*m_x\n",
        "print(b_0)"
      ],
      "execution_count": null,
      "outputs": [
        {
          "output_type": "stream",
          "text": [
            "1.51841340163367\n",
            "-0.18101896718814814\n"
          ],
          "name": "stdout"
        }
      ]
    },
    {
      "cell_type": "markdown",
      "metadata": {
        "id": "YBMjLBgFPtkB"
      },
      "source": [
        "**[7] Prediksi Model**\n",
        "\n",
        "```\n",
        "y_pred = b_0 + b_1*x\n",
        "```"
      ]
    },
    {
      "cell_type": "code",
      "metadata": {
        "id": "ZAnHnZUMP749",
        "colab": {
          "base_uri": "https://localhost:8080/"
        },
        "outputId": "4fd38457-852d-4c39-f69d-c62f2a9f721a"
      },
      "source": [
        "## Y pred\n",
        "\n",
        "y_pred = b_0 + b_1*x\n",
        "print(y_pred)"
      ],
      "execution_count": null,
      "outputs": [
        {
          "output_type": "stream",
          "text": [
            "[-0.18101897  1.33739443  2.85580784  4.37422124  5.89263464  7.41104804\n",
            "  7.41104804 10.44787484 11.96628825 13.48470165]\n"
          ],
          "name": "stdout"
        }
      ]
    },
    {
      "cell_type": "markdown",
      "metadata": {
        "id": "ZZV8OmcqP7bV"
      },
      "source": [
        "**[8] Menghitung selisih hasil prediksi dengan data sebenarnya**\n",
        "\n",
        "Galat= vektor y_pred - vektor y\n"
      ]
    },
    {
      "cell_type": "code",
      "metadata": {
        "id": "bQuaO4c1QNMm",
        "colab": {
          "base_uri": "https://localhost:8080/"
        },
        "outputId": "af3ed2f3-b805-432d-d955-93cf59d79859"
      },
      "source": [
        "# Galat\n",
        "Galat= y_pred - y\n",
        "print(Galat)"
      ],
      "execution_count": null,
      "outputs": [
        {
          "output_type": "stream",
          "text": [
            "[-1.18101897 -1.66260557  0.85580784 -0.62577876 -1.10736536 -0.58895196\n",
            " -0.58895196  1.44787484  1.96628825  1.48470165]\n"
          ],
          "name": "stdout"
        }
      ]
    }
  ]
}
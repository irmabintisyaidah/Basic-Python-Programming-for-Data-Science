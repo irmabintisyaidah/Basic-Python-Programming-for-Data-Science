{
  "nbformat": 4,
  "nbformat_minor": 0,
  "metadata": {
    "colab": {
      "name": "Mini Project A,B Irma Binti Sya'idah 2000015034.ipynb",
      "provenance": []
    },
    "kernelspec": {
      "name": "python3",
      "display_name": "Python 3"
    },
    "language_info": {
      "name": "python"
    }
  },
  "cells": [
    {
      "cell_type": "markdown",
      "metadata": {
        "id": "Gscl56wJkIfr"
      },
      "source": [
        "# MINI PROJEK [A]"
      ]
    },
    {
      "cell_type": "markdown",
      "metadata": {
        "id": "xgG5y3R6kQPr"
      },
      "source": [
        "## Fungsi \"Pos_Neg_Nol\""
      ]
    },
    {
      "cell_type": "code",
      "metadata": {
        "colab": {
          "base_uri": "https://localhost:8080/"
        },
        "id": "08BmuzdkIF_4",
        "outputId": "18732312-b4e0-4610-c6be-1eddba0d2c69"
      },
      "source": [
        "#Menentukan suatu bilangan yang diinput tersebut positif,negatif,atau nol\n",
        "i = int(input('Masukkan bilangan i='))\n",
        "if i > 0:\n",
        "    print('Bilangan Positif')\n",
        "elif i < 0:\n",
        "    print('Bilangan Negatif')\n",
        "else:\n",
        "    print('Bilangan nol')"
      ],
      "execution_count": 8,
      "outputs": [
        {
          "output_type": "stream",
          "text": [
            "Masukkan bilangan i=-4\n",
            "Bilangan Negatif\n"
          ],
          "name": "stdout"
        }
      ]
    },
    {
      "cell_type": "markdown",
      "metadata": {
        "id": "QAhIDw43kU-o"
      },
      "source": [
        "## Fungsi \"Mahal_Diskon\""
      ]
    },
    {
      "cell_type": "code",
      "metadata": {
        "colab": {
          "base_uri": "https://localhost:8080/"
        },
        "id": "l_yHTF_CPFIp",
        "outputId": "f6e7cbe9-c289-4ef8-c3b8-0011838560ce"
      },
      "source": [
        "#Mentukan Mahal Diskon\n",
        "jumlah = int(input('Masukkan jumlah barang = '))\n",
        "harga = int(input('Masukkan harga barang = '))\n",
        "total = (jumlah * harga)\n",
        "print('Jumlah Total = ', total)\n",
        "\n",
        "if total >= 200000:\n",
        "  diskon = total * (40/100)\n",
        "  print('Kamu dapat diskon 40%')\n",
        "elif total >= 90000:\n",
        "  diskon = total * (20/100)\n",
        "  print('Kamu dapat diskon 20%')\n",
        "elif total > 40000:\n",
        "  diskon = total * (10/100)\n",
        "  print('Kamu dapat diskon 10%')\n",
        "else:\n",
        "  diskon = total * (10/100)\n",
        "  print('Maaf kamu belum dapat diskon')\n",
        "\n",
        "harga_diskon = total - diskon \n",
        "if harga_diskon > 90000:\n",
        "  print('Mahal')\n",
        "else:\n",
        "  print('Murah')\n",
        "print('Karena harga yang harus dibayarkan = ', harga_diskon)"
      ],
      "execution_count": 16,
      "outputs": [
        {
          "output_type": "stream",
          "text": [
            "Masukkan jumlah barang = 5\n",
            "Masukkan harga barang = 20000\n",
            "Jumlah Total =  100000\n",
            "Kamu dapat diskon 20%\n",
            "Murah\n",
            "Karena harga yang harus dibayarkan =  80000.0\n"
          ],
          "name": "stdout"
        }
      ]
    },
    {
      "cell_type": "markdown",
      "metadata": {
        "id": "EVN3G1uikCBD"
      },
      "source": [
        "# MINI PROJEK [B]"
      ]
    },
    {
      "cell_type": "code",
      "metadata": {
        "colab": {
          "base_uri": "https://localhost:8080/",
          "height": 142
        },
        "id": "uHdjJBLBGV32",
        "outputId": "d0e8ec0d-bca7-4d58-faea-ece96917afc7"
      },
      "source": [
        "import pandas as pd \n",
        "import numpy as np\n",
        "data = {\"Bilangan\":[1,-11,112],\n",
        "        \"Genap/Ganjil\":[\"Ganjil\",\"Ganjil\",\"Genap\"],\n",
        "        \"Pos/Neg/Nol\":[\"Positif\",\"Negatif\",\"Positif\"],\n",
        "        \"Satuan/Ratusan,Ribuan\":[\"Satuan\",\"Puluhan\",\"Ratusan\"]}\n",
        "df = pd.DataFrame(data)\n",
        "df"
      ],
      "execution_count": 17,
      "outputs": [
        {
          "output_type": "execute_result",
          "data": {
            "text/html": [
              "<div>\n",
              "<style scoped>\n",
              "    .dataframe tbody tr th:only-of-type {\n",
              "        vertical-align: middle;\n",
              "    }\n",
              "\n",
              "    .dataframe tbody tr th {\n",
              "        vertical-align: top;\n",
              "    }\n",
              "\n",
              "    .dataframe thead th {\n",
              "        text-align: right;\n",
              "    }\n",
              "</style>\n",
              "<table border=\"1\" class=\"dataframe\">\n",
              "  <thead>\n",
              "    <tr style=\"text-align: right;\">\n",
              "      <th></th>\n",
              "      <th>Bilangan</th>\n",
              "      <th>Genap/Ganjil</th>\n",
              "      <th>Pos/Neg/Nol</th>\n",
              "      <th>Satuan/Ratusan,Ribuan</th>\n",
              "    </tr>\n",
              "  </thead>\n",
              "  <tbody>\n",
              "    <tr>\n",
              "      <th>0</th>\n",
              "      <td>1</td>\n",
              "      <td>Ganjil</td>\n",
              "      <td>Positif</td>\n",
              "      <td>Satuan</td>\n",
              "    </tr>\n",
              "    <tr>\n",
              "      <th>1</th>\n",
              "      <td>-11</td>\n",
              "      <td>Ganjil</td>\n",
              "      <td>Negatif</td>\n",
              "      <td>Puluhan</td>\n",
              "    </tr>\n",
              "    <tr>\n",
              "      <th>2</th>\n",
              "      <td>112</td>\n",
              "      <td>Genap</td>\n",
              "      <td>Positif</td>\n",
              "      <td>Ratusan</td>\n",
              "    </tr>\n",
              "  </tbody>\n",
              "</table>\n",
              "</div>"
            ],
            "text/plain": [
              "   Bilangan Genap/Ganjil Pos/Neg/Nol Satuan/Ratusan,Ribuan\n",
              "0         1       Ganjil     Positif                Satuan\n",
              "1       -11       Ganjil     Negatif               Puluhan\n",
              "2       112        Genap     Positif               Ratusan"
            ]
          },
          "metadata": {
            "tags": []
          },
          "execution_count": 17
        }
      ]
    }
  ]
}
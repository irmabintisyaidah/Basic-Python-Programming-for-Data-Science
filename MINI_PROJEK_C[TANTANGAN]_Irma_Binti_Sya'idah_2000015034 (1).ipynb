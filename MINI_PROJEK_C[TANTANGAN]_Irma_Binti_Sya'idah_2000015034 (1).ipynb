{
  "nbformat": 4,
  "nbformat_minor": 0,
  "metadata": {
    "colab": {
      "name": "MINI PROJEK C[TANTANGAN] Irma Binti Sya'idah 2000015034.ipynb",
      "provenance": []
    },
    "kernelspec": {
      "name": "python3",
      "display_name": "Python 3"
    },
    "language_info": {
      "name": "python"
    }
  },
  "cells": [
    {
      "cell_type": "markdown",
      "metadata": {
        "id": "p85l3w0W8RNV"
      },
      "source": [
        "#MINI PROJEK C[TANTANGAN]"
      ]
    },
    {
      "cell_type": "code",
      "metadata": {
        "id": "QzVRYOCc5au1"
      },
      "source": [
        "import pandas as pd\n",
        "import numpy as np"
      ],
      "execution_count": 2,
      "outputs": []
    },
    {
      "cell_type": "code",
      "metadata": {
        "colab": {
          "base_uri": "https://localhost:8080/"
        },
        "id": "pc008L5z5dWe",
        "outputId": "75a0f030-9ff9-4beb-bee1-93b4303f9c92"
      },
      "source": [
        "#Mencari Batas Bawah \n",
        "i = 0.26667\n",
        "j =[]\n",
        "while i <= 2:\n",
        "  i = i + 0.33333\n",
        "  j.append(i)\n",
        "print(j)"
      ],
      "execution_count": 7,
      "outputs": [
        {
          "output_type": "stream",
          "text": [
            "[0.6000000000000001, 0.9333300000000001, 1.2666600000000001, 1.59999, 1.9333200000000001, 2.2666500000000003]\n"
          ],
          "name": "stdout"
        }
      ]
    },
    {
      "cell_type": "code",
      "metadata": {
        "colab": {
          "base_uri": "https://localhost:8080/"
        },
        "id": "HaV4RiWX5rJ8",
        "outputId": "4b54aea8-c12c-4694-83fc-0c1ee41761b7"
      },
      "source": [
        "#Mencari Batas Atas\n",
        "x=0.6\n",
        "y=[]\n",
        "while x < 2.5:\n",
        "  x = x + 0.33333\n",
        "  y.append(x)\n",
        "\n",
        "y[5] = 2.60000\n",
        "print(y)"
      ],
      "execution_count": 13,
      "outputs": [
        {
          "output_type": "stream",
          "text": [
            "[0.93333, 1.26666, 1.59999, 1.9333200000000001, 2.2666500000000003, 2.6]\n"
          ],
          "name": "stdout"
        }
      ]
    },
    {
      "cell_type": "code",
      "metadata": {
        "colab": {
          "base_uri": "https://localhost:8080/"
        },
        "id": "I_n_vsFP5vHh",
        "outputId": "7566d2ba-714c-4c46-cfb5-22a3d2f99e9f"
      },
      "source": [
        "#Nilai tengah \n",
        "r = np.add(j,y)\n",
        "s = r/2\n",
        "s"
      ],
      "execution_count": 20,
      "outputs": [
        {
          "output_type": "execute_result",
          "data": {
            "text/plain": [
              "array([0.766665, 1.099995, 1.433325, 1.766655, 2.099985, 2.433325])"
            ]
          },
          "metadata": {
            "tags": []
          },
          "execution_count": 20
        }
      ]
    },
    {
      "cell_type": "code",
      "metadata": {
        "colab": {
          "base_uri": "https://localhost:8080/",
          "height": 235
        },
        "id": "Y9WbG9SV508Z",
        "outputId": "1b8826d0-80e2-4d8f-a074-548d44f2dc02"
      },
      "source": [
        "list1 = [\"U1\",\"U2\",\"U3\",\"U4\",\"U5\",\"U6\" ]\n",
        "dict1 = {\"Nama Kelas\":list1,  \"Batas Bawah\":j, \"Batas Atas\":y, \"Nilai Tengah\":s}\n",
        "df = pd.DataFrame(dict1)\n",
        "df"
      ],
      "execution_count": 26,
      "outputs": [
        {
          "output_type": "execute_result",
          "data": {
            "text/html": [
              "<div>\n",
              "<style scoped>\n",
              "    .dataframe tbody tr th:only-of-type {\n",
              "        vertical-align: middle;\n",
              "    }\n",
              "\n",
              "    .dataframe tbody tr th {\n",
              "        vertical-align: top;\n",
              "    }\n",
              "\n",
              "    .dataframe thead th {\n",
              "        text-align: right;\n",
              "    }\n",
              "</style>\n",
              "<table border=\"1\" class=\"dataframe\">\n",
              "  <thead>\n",
              "    <tr style=\"text-align: right;\">\n",
              "      <th></th>\n",
              "      <th>Nama Kelas</th>\n",
              "      <th>Batas Bawah</th>\n",
              "      <th>Batas Atas</th>\n",
              "      <th>Nilai Tengah</th>\n",
              "    </tr>\n",
              "  </thead>\n",
              "  <tbody>\n",
              "    <tr>\n",
              "      <th>0</th>\n",
              "      <td>U1</td>\n",
              "      <td>0.60000</td>\n",
              "      <td>0.93333</td>\n",
              "      <td>0.766665</td>\n",
              "    </tr>\n",
              "    <tr>\n",
              "      <th>1</th>\n",
              "      <td>U2</td>\n",
              "      <td>0.93333</td>\n",
              "      <td>1.26666</td>\n",
              "      <td>1.099995</td>\n",
              "    </tr>\n",
              "    <tr>\n",
              "      <th>2</th>\n",
              "      <td>U3</td>\n",
              "      <td>1.26666</td>\n",
              "      <td>1.59999</td>\n",
              "      <td>1.433325</td>\n",
              "    </tr>\n",
              "    <tr>\n",
              "      <th>3</th>\n",
              "      <td>U4</td>\n",
              "      <td>1.59999</td>\n",
              "      <td>1.93332</td>\n",
              "      <td>1.766655</td>\n",
              "    </tr>\n",
              "    <tr>\n",
              "      <th>4</th>\n",
              "      <td>U5</td>\n",
              "      <td>1.93332</td>\n",
              "      <td>2.26665</td>\n",
              "      <td>2.099985</td>\n",
              "    </tr>\n",
              "    <tr>\n",
              "      <th>5</th>\n",
              "      <td>U6</td>\n",
              "      <td>2.26665</td>\n",
              "      <td>2.60000</td>\n",
              "      <td>2.433325</td>\n",
              "    </tr>\n",
              "  </tbody>\n",
              "</table>\n",
              "</div>"
            ],
            "text/plain": [
              "  Nama Kelas  Batas Bawah  Batas Atas  Nilai Tengah\n",
              "0         U1      0.60000     0.93333      0.766665\n",
              "1         U2      0.93333     1.26666      1.099995\n",
              "2         U3      1.26666     1.59999      1.433325\n",
              "3         U4      1.59999     1.93332      1.766655\n",
              "4         U5      1.93332     2.26665      2.099985\n",
              "5         U6      2.26665     2.60000      2.433325"
            ]
          },
          "metadata": {
            "tags": []
          },
          "execution_count": 26
        }
      ]
    }
  ]
}
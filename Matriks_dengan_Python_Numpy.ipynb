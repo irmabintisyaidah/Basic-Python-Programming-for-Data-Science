{
  "nbformat": 4,
  "nbformat_minor": 0,
  "metadata": {
    "colab": {
      "name": "Matriks dengan Python Numpy.ipynb",
      "provenance": []
    },
    "kernelspec": {
      "name": "python3",
      "display_name": "Python 3"
    },
    "language_info": {
      "name": "python"
    }
  },
  "cells": [
    {
      "cell_type": "markdown",
      "metadata": {
        "id": "9bMxNHu2YWyX"
      },
      "source": [
        "#Membuat Array Menggunakan Numpy"
      ]
    },
    {
      "cell_type": "code",
      "metadata": {
        "colab": {
          "base_uri": "https://localhost:8080/"
        },
        "id": "Gp2s7mw9RE0v",
        "outputId": "1e72a41b-5e71-4294-a2b5-3e1e51634c88"
      },
      "source": [
        "import numpy as np\n",
        "# Vector\n",
        "x = np.array([1.5, 2, 2.5, 3])\n",
        "print(\"\\nvektor bilangan bulat positif\\n\",x)\n",
        "y = np.arange(1,15,2)\n",
        "print(\"\\nvektor 1 sampai 15 dengan beda 2\\n\",y)\n",
        "\n",
        "# Linspace\n",
        "x = np.linspace(1,10,4)\n",
        "print(\"\\nmembuat linspace\\n\",x)\n",
        "\n",
        "# Matrik\n",
        "v = np.array([(2,7),(4,8),(5,9)])\n",
        "print(\"\\nmatriks biasa dengan 2 baris dan 2 colom\",v)\n",
        "w = np.zeros((4,4))\n",
        "print(\"\\nmembuat matriks 4 baris 4 colom yang semua elemennya 0\\n\",w)\n",
        "x = np.ones((5,5))\n",
        "print(\"\\nmembuat matriks 5 baris 5 colom yang semua elemennya 1\\n\",x)\n",
        "y = np.identity(4)\n",
        "print(\"\\nmembuat matriks diagonal, dengan baris 4 colom 4\\n\",y)\n",
        "z = np.eye(6)\n",
        "print(\"\\nmembuat matriks diagonal, dengan baris 6 colom 6\\n\",z)"
      ],
      "execution_count": null,
      "outputs": [
        {
          "output_type": "stream",
          "text": [
            "\n",
            "vektor bilangan bulat positif\n",
            " [1.5 2.  2.5 3. ]\n",
            "\n",
            "vektor 1 sampai 15 dengan beda 2\n",
            " [ 1  3  5  7  9 11 13]\n",
            "\n",
            "membuat linspace\n",
            " [ 1.  4.  7. 10.]\n",
            "\n",
            "matriks biasa dengan 2 baris dan 2 colom [[2 7]\n",
            " [4 8]\n",
            " [5 9]]\n",
            "\n",
            "membuat matriks 4 baris 4 colom yang semua elemennya 0\n",
            " [[0. 0. 0. 0.]\n",
            " [0. 0. 0. 0.]\n",
            " [0. 0. 0. 0.]\n",
            " [0. 0. 0. 0.]]\n",
            "\n",
            "membuat matriks 5 baris 5 colom yang semua elemennya 1\n",
            " [[1. 1. 1. 1. 1.]\n",
            " [1. 1. 1. 1. 1.]\n",
            " [1. 1. 1. 1. 1.]\n",
            " [1. 1. 1. 1. 1.]\n",
            " [1. 1. 1. 1. 1.]]\n",
            "\n",
            "membuat matriks diagonal, dengan baris 4 colom 4\n",
            " [[1. 0. 0. 0.]\n",
            " [0. 1. 0. 0.]\n",
            " [0. 0. 1. 0.]\n",
            " [0. 0. 0. 1.]]\n",
            "\n",
            "membuat matriks diagonal, dengan baris 6 colom 6\n",
            " [[1. 0. 0. 0. 0. 0.]\n",
            " [0. 1. 0. 0. 0. 0.]\n",
            " [0. 0. 1. 0. 0. 0.]\n",
            " [0. 0. 0. 1. 0. 0.]\n",
            " [0. 0. 0. 0. 1. 0.]\n",
            " [0. 0. 0. 0. 0. 1.]]\n"
          ],
          "name": "stdout"
        }
      ]
    },
    {
      "cell_type": "markdown",
      "metadata": {
        "id": "AVgUzBu6ZaVz"
      },
      "source": [
        "#Vektor Dengan Nummpy Array"
      ]
    },
    {
      "cell_type": "code",
      "metadata": {
        "colab": {
          "base_uri": "https://localhost:8080/"
        },
        "id": "SygvqSKQRJ3y",
        "outputId": "40f56656-6aed-4585-a616-98611de58738"
      },
      "source": [
        "A = np.array([1.5 , 2.5, 5, 7])\n",
        "print(a)\n",
        "\n",
        "B = np.arange(2,15,4)\n",
        "print(b)"
      ],
      "execution_count": null,
      "outputs": [
        {
          "output_type": "stream",
          "text": [
            "[1.5 2.5 5.  7. ]\n",
            "[ 2  6 10 14]\n"
          ],
          "name": "stdout"
        }
      ]
    },
    {
      "cell_type": "markdown",
      "metadata": {
        "id": "3UVSvWq0aMNk"
      },
      "source": [
        "#Operasi Vektor"
      ]
    },
    {
      "cell_type": "code",
      "metadata": {
        "colab": {
          "base_uri": "https://localhost:8080/"
        },
        "id": "JZ_mG93Kbz6G",
        "outputId": "b8e340ad-c587-4c45-de6f-e7d5a79c4f01"
      },
      "source": [
        "#Penjumlahan\n",
        "A+B"
      ],
      "execution_count": null,
      "outputs": [
        {
          "output_type": "execute_result",
          "data": {
            "text/plain": [
              "array([ 3.5,  8.5, 15. , 21. ])"
            ]
          },
          "metadata": {
            "tags": []
          },
          "execution_count": 40
        }
      ]
    },
    {
      "cell_type": "code",
      "metadata": {
        "colab": {
          "base_uri": "https://localhost:8080/"
        },
        "id": "Jhra2luAc9pN",
        "outputId": "1104d3ac-7d00-4531-beb8-69e810db61ef"
      },
      "source": [
        "#Pengurangan \n",
        "A-B"
      ],
      "execution_count": null,
      "outputs": [
        {
          "output_type": "execute_result",
          "data": {
            "text/plain": [
              "array([-0.5, -3.5, -5. , -7. ])"
            ]
          },
          "metadata": {
            "tags": []
          },
          "execution_count": 41
        }
      ]
    },
    {
      "cell_type": "code",
      "metadata": {
        "colab": {
          "base_uri": "https://localhost:8080/"
        },
        "id": "PwMcu0WxdFtf",
        "outputId": "0a82a831-e75a-46b6-cf9e-9e29faa28f3d"
      },
      "source": [
        "#Perkalian skalar\n",
        "A*B"
      ],
      "execution_count": null,
      "outputs": [
        {
          "output_type": "execute_result",
          "data": {
            "text/plain": [
              "array([ 3., 15., 50., 98.])"
            ]
          },
          "metadata": {
            "tags": []
          },
          "execution_count": 42
        }
      ]
    },
    {
      "cell_type": "markdown",
      "metadata": {
        "id": "MArzrt7lwUSp"
      },
      "source": [
        "#Matriks Dengan Numppy Array"
      ]
    },
    {
      "cell_type": "code",
      "metadata": {
        "colab": {
          "base_uri": "https://localhost:8080/"
        },
        "id": "u768VnwrRnR-",
        "outputId": "39531e77-a817-4bf7-e7f9-d7e44d527fab"
      },
      "source": [
        "P = np.array([(1,2,3),(4,5,6),(8,9,11)])\n",
        "print(\"\\nMatriks P\\n\",P)\n",
        "\n",
        "Q = np.array([(1,3,5),(2,3,6),(4,5,1)])\n",
        "print(\"\\nMatriks Q\\n\",Q)\n",
        "\n",
        "R = np.array([(1,2,3,4),(5,6,7,8),(9,10,11,12),(13,14,15,16)])\n",
        "print(\"\\nMatriks R\\n\",R)"
      ],
      "execution_count": null,
      "outputs": [
        {
          "output_type": "stream",
          "text": [
            "\n",
            "Matriks P\n",
            " [[ 1  2  3]\n",
            " [ 4  5  6]\n",
            " [ 8  9 11]]\n",
            "\n",
            "Matriks Q\n",
            " [[1 3 5]\n",
            " [2 3 6]\n",
            " [4 5 1]]\n",
            "\n",
            "Matriks R\n",
            " [[ 1  2  3  4]\n",
            " [ 5  6  7  8]\n",
            " [ 9 10 11 12]\n",
            " [13 14 15 16]]\n"
          ],
          "name": "stdout"
        }
      ]
    },
    {
      "cell_type": "markdown",
      "metadata": {
        "id": "RUcQpre7fFEM"
      },
      "source": [
        "#Operasi Matriks"
      ]
    },
    {
      "cell_type": "code",
      "metadata": {
        "colab": {
          "base_uri": "https://localhost:8080/"
        },
        "id": "64757XCNSM8a",
        "outputId": "0aa7570f-5a76-406d-d749-667db376d98b"
      },
      "source": [
        "# Penjumlahan\n",
        "np.add(P,Q)"
      ],
      "execution_count": null,
      "outputs": [
        {
          "output_type": "execute_result",
          "data": {
            "text/plain": [
              "array([[ 2,  5,  8],\n",
              "       [ 6,  8, 12],\n",
              "       [12, 14, 12]])"
            ]
          },
          "metadata": {
            "tags": []
          },
          "execution_count": 154
        }
      ]
    },
    {
      "cell_type": "code",
      "metadata": {
        "colab": {
          "base_uri": "https://localhost:8080/"
        },
        "id": "OJLj7UHrSP86",
        "outputId": "4807c91b-b7d1-41e5-a064-8f909cef66ee"
      },
      "source": [
        "# Pengurangan\n",
        "np.subtract(Q,P)"
      ],
      "execution_count": null,
      "outputs": [
        {
          "output_type": "execute_result",
          "data": {
            "text/plain": [
              "array([[  0,   1,   2],\n",
              "       [ -2,  -2,   0],\n",
              "       [ -4,  -4, -10]])"
            ]
          },
          "metadata": {
            "tags": []
          },
          "execution_count": 155
        }
      ]
    },
    {
      "cell_type": "code",
      "metadata": {
        "colab": {
          "base_uri": "https://localhost:8080/"
        },
        "id": "EhO6HL-ASWE9",
        "outputId": "992f8ad4-c79c-4cc0-f097-df803ddfca11"
      },
      "source": [
        "# Perkalian dengan Skalar\n",
        "5*Q"
      ],
      "execution_count": null,
      "outputs": [
        {
          "output_type": "execute_result",
          "data": {
            "text/plain": [
              "array([[ 5, 15, 25],\n",
              "       [10, 15, 30],\n",
              "       [20, 25,  5]])"
            ]
          },
          "metadata": {
            "tags": []
          },
          "execution_count": 157
        }
      ]
    },
    {
      "cell_type": "code",
      "metadata": {
        "colab": {
          "base_uri": "https://localhost:8080/"
        },
        "id": "yAU5nM6AShME",
        "outputId": "244503be-251f-4746-d48e-e65105ce9886"
      },
      "source": [
        "# Perkalian Matriks\n",
        "np.multiply(P,Q)"
      ],
      "execution_count": null,
      "outputs": [
        {
          "output_type": "execute_result",
          "data": {
            "text/plain": [
              "array([[ 1,  6, 15],\n",
              "       [ 8, 15, 36],\n",
              "       [32, 45, 11]])"
            ]
          },
          "metadata": {
            "tags": []
          },
          "execution_count": 158
        }
      ]
    },
    {
      "cell_type": "markdown",
      "metadata": {
        "id": "oiZoytknvXHE"
      },
      "source": [
        "#Dot Product dan Cross Product\n"
      ]
    },
    {
      "cell_type": "code",
      "metadata": {
        "colab": {
          "base_uri": "https://localhost:8080/"
        },
        "id": "TRus-CpOSn26",
        "outputId": "5652887e-ee36-48cd-8dc5-8d58d9c849d5"
      },
      "source": [
        "# Dot Product\n",
        "np.dot(P,Q)"
      ],
      "execution_count": null,
      "outputs": [
        {
          "output_type": "execute_result",
          "data": {
            "text/plain": [
              "array([[ 17,  24,  20],\n",
              "       [ 38,  57,  56],\n",
              "       [ 70, 106, 105]])"
            ]
          },
          "metadata": {
            "tags": []
          },
          "execution_count": 159
        }
      ]
    },
    {
      "cell_type": "code",
      "metadata": {
        "colab": {
          "base_uri": "https://localhost:8080/"
        },
        "id": "Q8PUDCGiTAeP",
        "outputId": "a5688951-0b1a-44ba-ca90-20c53272ae7b"
      },
      "source": [
        "# Cross Product\n",
        "np.cross(Q,P)"
      ],
      "execution_count": null,
      "outputs": [
        {
          "output_type": "execute_result",
          "data": {
            "text/plain": [
              "array([[ -1,   2,  -1],\n",
              "       [-12,  12,  -2],\n",
              "       [ 46, -36,  -4]])"
            ]
          },
          "metadata": {
            "tags": []
          },
          "execution_count": 160
        }
      ]
    },
    {
      "cell_type": "markdown",
      "metadata": {
        "id": "rGTIxetAn6Ya"
      },
      "source": [
        "#Aljabar Linier Dengan Numpy"
      ]
    },
    {
      "cell_type": "code",
      "metadata": {
        "colab": {
          "base_uri": "https://localhost:8080/"
        },
        "id": "M8vx4k69oyu9",
        "outputId": "160740a7-5fdb-4e22-c527-54b8a241afed"
      },
      "source": [
        "# Determinan\n",
        "detP = np.linalg.det(P)\n",
        "print(\"Determinan Matriks P = \",detP,\"\\n\")\n",
        "\n",
        "detQ = np.linalg.det(Q)\n",
        "print(\"Determinan Matriks R = \",detQ)"
      ],
      "execution_count": null,
      "outputs": [
        {
          "output_type": "stream",
          "text": [
            "Determinan Matriks P =  -3.000000000000001 \n",
            "\n",
            "Determinan Matriks R =  29.000000000000004\n"
          ],
          "name": "stdout"
        }
      ]
    },
    {
      "cell_type": "code",
      "metadata": {
        "colab": {
          "base_uri": "https://localhost:8080/"
        },
        "id": "5nH8hEpgTCHa",
        "outputId": "d3f46f23-82ce-4053-d680-101215873fe4"
      },
      "source": [
        "# Inverse\n",
        "invP= np.linalg.inv(P)\n",
        "print(invP,\"\\n\")\n",
        "\n",
        "invR = np.linalg.inv(Q)\n",
        "print(invQ)"
      ],
      "execution_count": null,
      "outputs": [
        {
          "output_type": "stream",
          "text": [
            "[[-0.33333333 -1.66666667  1.        ]\n",
            " [-1.33333333  4.33333333 -2.        ]\n",
            " [ 1.33333333 -2.33333333  1.        ]] \n",
            "\n",
            "[[-0.91666667  0.75        0.08333333]\n",
            " [ 0.77777778 -0.66666667  0.11111111]\n",
            " [-0.08333333  0.25       -0.08333333]]\n"
          ],
          "name": "stdout"
        }
      ]
    },
    {
      "cell_type": "code",
      "metadata": {
        "colab": {
          "base_uri": "https://localhost:8080/"
        },
        "id": "bCsomAtITM0y",
        "outputId": "d6b7898b-7b51-4a45-83b1-7b922f8f50b1"
      },
      "source": [
        "#Mengambil Elemen Diagonal\n",
        "diaP = np.diag(P)\n",
        "print(diaP,\"\\n\")\n",
        "\n",
        "diaQ = np.diag(Q)\n",
        "print(diaQ,\"\\n\")\n",
        "\n",
        "diaR = np.diag(R)\n",
        "print(diaR)"
      ],
      "execution_count": null,
      "outputs": [
        {
          "output_type": "stream",
          "text": [
            "[ 1  5 11] \n",
            "\n",
            "[1 3 1] \n",
            "\n",
            "[ 1  6 11 16]\n"
          ],
          "name": "stdout"
        }
      ]
    },
    {
      "cell_type": "code",
      "metadata": {
        "colab": {
          "base_uri": "https://localhost:8080/"
        },
        "id": "ZaxmxjQzydPD",
        "outputId": "1f85ad41-7c0e-4ac1-db08-ee8729ba9a24"
      },
      "source": [
        "#Solve Persamaan Linier\n",
        "solve1 = np.linalg.solve(P,Q)\n",
        "print(solve1,\"\\n\")\n",
        "\n",
        "solve2 = np.dot(invP,Q)\n",
        "print(solve2,\"\\n\")\n",
        "\n",
        "solve3 = np.linalg.solve(Q,P)\n",
        "print(solve3,\"\\n\")\n",
        "\n",
        "solve4 = np.dot(invQ,P)\n",
        "print(solve4)"
      ],
      "execution_count": null,
      "outputs": [
        {
          "output_type": "stream",
          "text": [
            "[[  0.33333333  -1.         -10.66666667]\n",
            " [ -0.66666667  -1.          17.33333333]\n",
            " [  0.66666667   2.          -6.33333333]] \n",
            "\n",
            "[[  0.33333333  -1.         -10.66666667]\n",
            " [ -0.66666667  -1.          17.33333333]\n",
            " [  0.66666667   2.          -6.33333333]] \n",
            "\n",
            "[[ 2.93103448  2.86206897  2.89655172]\n",
            " [-0.75862069 -0.51724138 -0.13793103]\n",
            " [ 0.06896552  0.13793103  0.10344828]] \n",
            "\n",
            "[[ 2.75        2.66666667  2.66666667]\n",
            " [-1.         -0.77777778 -0.44444444]\n",
            " [ 0.25        0.33333333  0.33333333]]\n"
          ],
          "name": "stdout"
        }
      ]
    },
    {
      "cell_type": "markdown",
      "metadata": {
        "id": "hCm-jOIkrvPn"
      },
      "source": [
        "#Principal Component Analysis dengan Numpy"
      ]
    },
    {
      "cell_type": "code",
      "metadata": {
        "colab": {
          "base_uri": "https://localhost:8080/",
          "height": 320
        },
        "id": "3xPuwSfwUSAU",
        "outputId": "c36659e9-f01e-4cae-96f8-ab24bf841ba3"
      },
      "source": [
        "import matplotlib.pyplot as plt\n",
        "P=np.arange(-2,4,1)\n",
        "Q=P**2+P**3+2\n",
        "print(P)\n",
        "print(Q)\n",
        "plt.plot(P,Q)"
      ],
      "execution_count": null,
      "outputs": [
        {
          "output_type": "stream",
          "text": [
            "[-2 -1  0  1  2  3]\n",
            "[-2  2  2  4 14 38]\n"
          ],
          "name": "stdout"
        },
        {
          "output_type": "execute_result",
          "data": {
            "text/plain": [
              "[<matplotlib.lines.Line2D at 0x7fb361e8dbd0>]"
            ]
          },
          "metadata": {
            "tags": []
          },
          "execution_count": 167
        },
        {
          "output_type": "display_data",
          "data": {
            "image/png": "[encoded data removed]",
            "text/plain": [
              "<Figure size 432x288 with 1 Axes>"
            ]
          },
          "metadata": {
            "tags": [],
            "needs_background": "light"
          }
        }
      ]
    }
  ]
}
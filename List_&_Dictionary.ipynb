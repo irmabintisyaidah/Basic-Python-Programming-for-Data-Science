{
  "nbformat": 4,
  "nbformat_minor": 0,
  "metadata": {
    "colab": {
      "name": "List & Dictionary.ipynb",
      "provenance": [],
      "collapsed_sections": []
    },
    "kernelspec": {
      "name": "python3",
      "display_name": "Python 3"
    },
    "language_info": {
      "name": "python"
    }
  },
  "cells": [
    {
      "cell_type": "markdown",
      "metadata": {
        "id": "kMd1Q9NB1BqH"
      },
      "source": [
        "1. Buatlah sebuah list dengan elemen bilangan kelipatan 5 dengan panjang elemen sejumlah 100"
      ]
    },
    {
      "cell_type": "code",
      "metadata": {
        "id": "ogBU6p9j0yXf",
        "colab": {
          "base_uri": "https://localhost:8080/"
        },
        "outputId": "6f7fd150-c044-47b9-ed84-b59cb76dd61e"
      },
      "source": [
        "#Tuliskan kodemu di bawah ini:\n",
        "\n",
        "list = {\n",
        "    \"range(1,100+1)\"\n",
        "}\n",
        "print(list)\n"
      ],
      "execution_count": null,
      "outputs": [
        {
          "output_type": "stream",
          "text": [
            "{'range(1,100+1)'}\n"
          ],
          "name": "stdout"
        }
      ]
    },
    {
      "cell_type": "code",
      "metadata": {
        "colab": {
          "base_uri": "https://localhost:8080/"
        },
        "id": "Iu_vuZSRT8Jw",
        "outputId": "23d6ae1b-a294-41f1-caae-992a973cf3ee"
      },
      "source": [
        "list = []\n",
        "\n",
        "for n in range(1,100+1):\n",
        "  list.append(n*5)\n",
        "\n",
        "print(list)"
      ],
      "execution_count": null,
      "outputs": [
        {
          "output_type": "stream",
          "text": [
            "[5, 10, 15, 20, 25, 30, 35, 40, 45, 50, 55, 60, 65, 70, 75, 80, 85, 90, 95, 100, 105, 110, 115, 120, 125, 130, 135, 140, 145, 150, 155, 160, 165, 170, 175, 180, 185, 190, 195, 200, 205, 210, 215, 220, 225, 230, 235, 240, 245, 250, 255, 260, 265, 270, 275, 280, 285, 290, 295, 300, 305, 310, 315, 320, 325, 330, 335, 340, 345, 350, 355, 360, 365, 370, 375, 380, 385, 390, 395, 400, 405, 410, 415, 420, 425, 430, 435, 440, 445, 450, 455, 460, 465, 470, 475, 480, 485, 490, 495, 500]\n"
          ],
          "name": "stdout"
        }
      ]
    },
    {
      "cell_type": "markdown",
      "metadata": {
        "id": "X2U6YpUwgRh3"
      },
      "source": [
        "2. Buatlah sebuah dictionary dengan jumlah elemen 100 dan lakukanlah beberpa modifikasi(minimal 3) di dalamnya."
      ]
    },
    {
      "cell_type": "code",
      "metadata": {
        "colab": {
          "base_uri": "https://localhost:8080/"
        },
        "id": "rMkbaEfRvYZx",
        "outputId": "d09718dc-795a-46bb-e2c9-3e1af6edd6dc"
      },
      "source": [
        "j=1\n",
        "dict={}\n",
        "for i in range (1,500,5) :\n",
        "  kunci = \"key\"\n",
        "  key=kunci+str(j)\n",
        "  dict[key]=i\n",
        "  j+=1\n",
        "print(dict)\n",
        "\n",
        "\n",
        "#Modifikasi 1\n",
        "\n",
        "dict.update({\"key101\":500})\n",
        "print(dict)\n",
        "\n",
        "\n",
        "\n",
        "#Modifikasi 2\n",
        "\n",
        "del dict['key101']\n",
        "print(dict)\n",
        "\n",
        "\n",
        "\n",
        "#Modifikasi 3\n",
        "\n",
        "dict ['key1']=1\n",
        "print(dict)"
      ],
      "execution_count": null,
      "outputs": [
        {
          "output_type": "stream",
          "text": [
            "{'key1': 1, 'key2': 6, 'key3': 11, 'key4': 16, 'key5': 21, 'key6': 26, 'key7': 31, 'key8': 36, 'key9': 41, 'key10': 46, 'key11': 51, 'key12': 56, 'key13': 61, 'key14': 66, 'key15': 71, 'key16': 76, 'key17': 81, 'key18': 86, 'key19': 91, 'key20': 96, 'key21': 101, 'key22': 106, 'key23': 111, 'key24': 116, 'key25': 121, 'key26': 126, 'key27': 131, 'key28': 136, 'key29': 141, 'key30': 146, 'key31': 151, 'key32': 156, 'key33': 161, 'key34': 166, 'key35': 171, 'key36': 176, 'key37': 181, 'key38': 186, 'key39': 191, 'key40': 196, 'key41': 201, 'key42': 206, 'key43': 211, 'key44': 216, 'key45': 221, 'key46': 226, 'key47': 231, 'key48': 236, 'key49': 241, 'key50': 246, 'key51': 251, 'key52': 256, 'key53': 261, 'key54': 266, 'key55': 271, 'key56': 276, 'key57': 281, 'key58': 286, 'key59': 291, 'key60': 296, 'key61': 301, 'key62': 306, 'key63': 311, 'key64': 316, 'key65': 321, 'key66': 326, 'key67': 331, 'key68': 336, 'key69': 341, 'key70': 346, 'key71': 351, 'key72': 356, 'key73': 361, 'key74': 366, 'key75': 371, 'key76': 376, 'key77': 381, 'key78': 386, 'key79': 391, 'key80': 396, 'key81': 401, 'key82': 406, 'key83': 411, 'key84': 416, 'key85': 421, 'key86': 426, 'key87': 431, 'key88': 436, 'key89': 441, 'key90': 446, 'key91': 451, 'key92': 456, 'key93': 461, 'key94': 466, 'key95': 471, 'key96': 476, 'key97': 481, 'key98': 486, 'key99': 491, 'key100': 496}\n",
            "{'key1': 1, 'key2': 6, 'key3': 11, 'key4': 16, 'key5': 21, 'key6': 26, 'key7': 31, 'key8': 36, 'key9': 41, 'key10': 46, 'key11': 51, 'key12': 56, 'key13': 61, 'key14': 66, 'key15': 71, 'key16': 76, 'key17': 81, 'key18': 86, 'key19': 91, 'key20': 96, 'key21': 101, 'key22': 106, 'key23': 111, 'key24': 116, 'key25': 121, 'key26': 126, 'key27': 131, 'key28': 136, 'key29': 141, 'key30': 146, 'key31': 151, 'key32': 156, 'key33': 161, 'key34': 166, 'key35': 171, 'key36': 176, 'key37': 181, 'key38': 186, 'key39': 191, 'key40': 196, 'key41': 201, 'key42': 206, 'key43': 211, 'key44': 216, 'key45': 221, 'key46': 226, 'key47': 231, 'key48': 236, 'key49': 241, 'key50': 246, 'key51': 251, 'key52': 256, 'key53': 261, 'key54': 266, 'key55': 271, 'key56': 276, 'key57': 281, 'key58': 286, 'key59': 291, 'key60': 296, 'key61': 301, 'key62': 306, 'key63': 311, 'key64': 316, 'key65': 321, 'key66': 326, 'key67': 331, 'key68': 336, 'key69': 341, 'key70': 346, 'key71': 351, 'key72': 356, 'key73': 361, 'key74': 366, 'key75': 371, 'key76': 376, 'key77': 381, 'key78': 386, 'key79': 391, 'key80': 396, 'key81': 401, 'key82': 406, 'key83': 411, 'key84': 416, 'key85': 421, 'key86': 426, 'key87': 431, 'key88': 436, 'key89': 441, 'key90': 446, 'key91': 451, 'key92': 456, 'key93': 461, 'key94': 466, 'key95': 471, 'key96': 476, 'key97': 481, 'key98': 486, 'key99': 491, 'key100': 496, 'key101': 500}\n",
            "{'key1': 1, 'key2': 6, 'key3': 11, 'key4': 16, 'key5': 21, 'key6': 26, 'key7': 31, 'key8': 36, 'key9': 41, 'key10': 46, 'key11': 51, 'key12': 56, 'key13': 61, 'key14': 66, 'key15': 71, 'key16': 76, 'key17': 81, 'key18': 86, 'key19': 91, 'key20': 96, 'key21': 101, 'key22': 106, 'key23': 111, 'key24': 116, 'key25': 121, 'key26': 126, 'key27': 131, 'key28': 136, 'key29': 141, 'key30': 146, 'key31': 151, 'key32': 156, 'key33': 161, 'key34': 166, 'key35': 171, 'key36': 176, 'key37': 181, 'key38': 186, 'key39': 191, 'key40': 196, 'key41': 201, 'key42': 206, 'key43': 211, 'key44': 216, 'key45': 221, 'key46': 226, 'key47': 231, 'key48': 236, 'key49': 241, 'key50': 246, 'key51': 251, 'key52': 256, 'key53': 261, 'key54': 266, 'key55': 271, 'key56': 276, 'key57': 281, 'key58': 286, 'key59': 291, 'key60': 296, 'key61': 301, 'key62': 306, 'key63': 311, 'key64': 316, 'key65': 321, 'key66': 326, 'key67': 331, 'key68': 336, 'key69': 341, 'key70': 346, 'key71': 351, 'key72': 356, 'key73': 361, 'key74': 366, 'key75': 371, 'key76': 376, 'key77': 381, 'key78': 386, 'key79': 391, 'key80': 396, 'key81': 401, 'key82': 406, 'key83': 411, 'key84': 416, 'key85': 421, 'key86': 426, 'key87': 431, 'key88': 436, 'key89': 441, 'key90': 446, 'key91': 451, 'key92': 456, 'key93': 461, 'key94': 466, 'key95': 471, 'key96': 476, 'key97': 481, 'key98': 486, 'key99': 491, 'key100': 496}\n",
            "{'key1': 1, 'key2': 6, 'key3': 11, 'key4': 16, 'key5': 21, 'key6': 26, 'key7': 31, 'key8': 36, 'key9': 41, 'key10': 46, 'key11': 51, 'key12': 56, 'key13': 61, 'key14': 66, 'key15': 71, 'key16': 76, 'key17': 81, 'key18': 86, 'key19': 91, 'key20': 96, 'key21': 101, 'key22': 106, 'key23': 111, 'key24': 116, 'key25': 121, 'key26': 126, 'key27': 131, 'key28': 136, 'key29': 141, 'key30': 146, 'key31': 151, 'key32': 156, 'key33': 161, 'key34': 166, 'key35': 171, 'key36': 176, 'key37': 181, 'key38': 186, 'key39': 191, 'key40': 196, 'key41': 201, 'key42': 206, 'key43': 211, 'key44': 216, 'key45': 221, 'key46': 226, 'key47': 231, 'key48': 236, 'key49': 241, 'key50': 246, 'key51': 251, 'key52': 256, 'key53': 261, 'key54': 266, 'key55': 271, 'key56': 276, 'key57': 281, 'key58': 286, 'key59': 291, 'key60': 296, 'key61': 301, 'key62': 306, 'key63': 311, 'key64': 316, 'key65': 321, 'key66': 326, 'key67': 331, 'key68': 336, 'key69': 341, 'key70': 346, 'key71': 351, 'key72': 356, 'key73': 361, 'key74': 366, 'key75': 371, 'key76': 376, 'key77': 381, 'key78': 386, 'key79': 391, 'key80': 396, 'key81': 401, 'key82': 406, 'key83': 411, 'key84': 416, 'key85': 421, 'key86': 426, 'key87': 431, 'key88': 436, 'key89': 441, 'key90': 446, 'key91': 451, 'key92': 456, 'key93': 461, 'key94': 466, 'key95': 471, 'key96': 476, 'key97': 481, 'key98': 486, 'key99': 491, 'key100': 496}\n"
          ],
          "name": "stdout"
        }
      ]
    }
  ]
}
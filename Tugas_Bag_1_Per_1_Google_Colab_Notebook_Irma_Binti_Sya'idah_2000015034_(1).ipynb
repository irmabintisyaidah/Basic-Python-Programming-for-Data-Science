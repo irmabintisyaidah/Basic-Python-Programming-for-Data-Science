{
  "nbformat": 4,
  "nbformat_minor": 0,
  "metadata": {
    "colab": {
      "name": "Tugas Bag. 1 Per. 1 Google Colab Notebook Irma Binti Sya'idah_2000015034 (1).ipynb",
      "provenance": []
    },
    "kernelspec": {
      "name": "python3",
      "display_name": "Python 3"
    }
  },
  "cells": [
    {
      "cell_type": "markdown",
      "metadata": {
        "id": "5UNguo5xEFE0"
      },
      "source": [
        "# **Geometri Dimensi Dua**"
      ]
    },
    {
      "cell_type": "markdown",
      "metadata": {
        "id": "b59qnIvxEUGG"
      },
      "source": [
        "## Segitiga"
      ]
    },
    {
      "cell_type": "markdown",
      "metadata": {
        "id": "cZTJolqgEYLB"
      },
      "source": [
        "Berikut adalah formulasi untuk menghitung **luas** dan *keliling* segitiga:\n",
        "<br>\n",
        "1. Luas= 0.5 X alas X tinggi\n",
        "2. Keliling = sisi a + sisi b + sisi c\n",
        "\n",
        "<br>\n",
        "Diketahui:\n",
        "<br>\n",
        "\n",
        "*   a(alas) = 6 cm\n",
        "*   b(tinggi) = 8 cm \n",
        "*   c(miring) = 10 cm"
      ]
    },
    {
      "cell_type": "code",
      "metadata": {
        "colab": {
          "base_uri": "https://localhost:8080/"
        },
        "id": "dRYE8IhWG-C8",
        "outputId": "fb0991bb-ac8d-4d4c-91ed-c2532abf08ee"
      },
      "source": [
        "a=6\n",
        "b=8\n",
        "c=10\n",
        "Luas= 0.5 * a * b \n",
        "print(Luas)\n",
        "Keliling = a+b+c\n",
        "print(Keliling)"
      ],
      "execution_count": null,
      "outputs": [
        {
          "output_type": "stream",
          "text": [
            "24.0\n",
            "24\n"
          ],
          "name": "stdout"
        }
      ]
    },
    {
      "cell_type": "markdown",
      "metadata": {
        "id": "VjPYPSc1Hu8K"
      },
      "source": [
        "## Segiempat\n",
        "<br>\n",
        "Berikut adalah formulasi untuk menghitung **luas** dan *keliling* segiempat:\n",
        "<br>\n",
        "1. Luas= sisi X sisi<br> \n",
        "2. Keliling = sisi X 4\n",
        "<br>\n",
        "<br>\n",
        "Diketahui: sisi segiempat = 8cm"
      ]
    },
    {
      "cell_type": "code",
      "metadata": {
        "colab": {
          "base_uri": "https://localhost:8080/"
        },
        "id": "JkFiJUgPIZKz",
        "outputId": "3df8be01-b6c2-4aaa-8b40-831f55e1b264"
      },
      "source": [
        "sisi=10\n",
        "Luas = sisi*sisi\n",
        "print(Luas)\n",
        "Keliling = 4*sisi\n",
        "print(Keliling)"
      ],
      "execution_count": null,
      "outputs": [
        {
          "output_type": "stream",
          "text": [
            "100\n",
            "40\n"
          ],
          "name": "stdout"
        }
      ]
    }
  ]
}